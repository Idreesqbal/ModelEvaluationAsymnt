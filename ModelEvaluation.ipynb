{
 "cells": [
  {
   "cell_type": "markdown",
   "metadata": {},
   "source": [
    "# Project ModelEvaluation\n",
    "\n",
    "We got an income statistics of US in the form of Datasets.\n",
    "\n",
    "Steps of Preparing the Data for Machine Learning Algoritms:\n",
    "\n",
    "**1.Get the data**\n",
    "\n",
    "**2.Create the workspace**\n",
    "\n",
    "**3.Download the datasets**\n",
    "\n",
    " - Take a Quick look at the Data Structure\n",
    "\n",
    "**4.Data Cleaning**\n",
    "\n",
    "**5.Handling Text and Categorical Attributes**\n",
    "\n",
    "**6.Feature Scaling**\n",
    "\n",
    "**7.Transformation Pipelines**\n",
    "\n",
    "**8.Select and Train a Model**\n",
    "\n",
    " - Training and Evaluating on the Training Set#\n",
    " - Evaluation methodes:\n",
    "   - RMSE, MSE, Cross Validation\n",
    "\n",
    "**9. Fine-Tune Your Model**\n",
    " - Grid Search\n",
    "   - Validation_curve for best hyperparameter selection\n",
    " - Random Search\n",
    " - Ensemble Method\n",
    "   - Feature Selecting\n",
    "   \n",
    "**-------------------------------------------------------------------**\n",
    "\n"
   ]
  },
  {
   "cell_type": "markdown",
   "metadata": {},
   "source": [
    "# 0.0 Imports"
   ]
  },
  {
   "cell_type": "code",
   "execution_count": 1,
   "metadata": {},
   "outputs": [],
   "source": [
    "import pandas as pd\n",
    "import numpy as np\n",
    "import matplotlib.pyplot as plt\n",
    "%matplotlib inline\n",
    "from matplotlib.pylab import rcParams # for better visualization style\n",
    "rcParams['figure.figsize'] = 15, 6\n",
    "import warnings\n",
    "warnings.filterwarnings(\"ignore\")"
   ]
  },
  {
   "cell_type": "markdown",
   "metadata": {},
   "source": [
    "# 0.1 Basics"
   ]
  },
  {
   "cell_type": "markdown",
   "metadata": {},
   "source": [
    "**Reading The Data**"
   ]
  },
  {
   "cell_type": "code",
   "execution_count": 5,
   "metadata": {},
   "outputs": [],
   "source": [
    "train_data = pd.read_csv('data_train.csv')\n",
    "test_data = pd.read_csv('data_test.csv')"
   ]
  },
  {
   "cell_type": "markdown",
   "metadata": {},
   "source": [
    "**Visualisation of the Data**"
   ]
  },
  {
   "cell_type": "code",
   "execution_count": 3,
   "metadata": {},
   "outputs": [
    {
     "data": {
      "text/html": [
       "<div>\n",
       "<style scoped>\n",
       "    .dataframe tbody tr th:only-of-type {\n",
       "        vertical-align: middle;\n",
       "    }\n",
       "\n",
       "    .dataframe tbody tr th {\n",
       "        vertical-align: top;\n",
       "    }\n",
       "\n",
       "    .dataframe thead th {\n",
       "        text-align: right;\n",
       "    }\n",
       "</style>\n",
       "<table border=\"1\" class=\"dataframe\">\n",
       "  <thead>\n",
       "    <tr style=\"text-align: right;\">\n",
       "      <th></th>\n",
       "      <th>age</th>\n",
       "      <th>workclass</th>\n",
       "      <th>fnlwgt</th>\n",
       "      <th>education</th>\n",
       "      <th>education-num</th>\n",
       "      <th>marital-status</th>\n",
       "      <th>occupation</th>\n",
       "      <th>relationship</th>\n",
       "      <th>race</th>\n",
       "      <th>sex</th>\n",
       "      <th>capital-gain</th>\n",
       "      <th>capital-loss</th>\n",
       "      <th>hours-per-week</th>\n",
       "      <th>native-country</th>\n",
       "      <th>income</th>\n",
       "    </tr>\n",
       "  </thead>\n",
       "  <tbody>\n",
       "    <tr>\n",
       "      <th>0</th>\n",
       "      <td>39</td>\n",
       "      <td>0</td>\n",
       "      <td>77516</td>\n",
       "      <td>0</td>\n",
       "      <td>13</td>\n",
       "      <td>0</td>\n",
       "      <td>0</td>\n",
       "      <td>0</td>\n",
       "      <td>0</td>\n",
       "      <td>0</td>\n",
       "      <td>2174</td>\n",
       "      <td>0</td>\n",
       "      <td>40</td>\n",
       "      <td>0</td>\n",
       "      <td>0</td>\n",
       "    </tr>\n",
       "    <tr>\n",
       "      <th>1</th>\n",
       "      <td>50</td>\n",
       "      <td>1</td>\n",
       "      <td>83311</td>\n",
       "      <td>0</td>\n",
       "      <td>13</td>\n",
       "      <td>1</td>\n",
       "      <td>1</td>\n",
       "      <td>1</td>\n",
       "      <td>0</td>\n",
       "      <td>0</td>\n",
       "      <td>0</td>\n",
       "      <td>0</td>\n",
       "      <td>13</td>\n",
       "      <td>0</td>\n",
       "      <td>0</td>\n",
       "    </tr>\n",
       "    <tr>\n",
       "      <th>2</th>\n",
       "      <td>38</td>\n",
       "      <td>2</td>\n",
       "      <td>215646</td>\n",
       "      <td>1</td>\n",
       "      <td>9</td>\n",
       "      <td>2</td>\n",
       "      <td>2</td>\n",
       "      <td>0</td>\n",
       "      <td>0</td>\n",
       "      <td>0</td>\n",
       "      <td>0</td>\n",
       "      <td>0</td>\n",
       "      <td>40</td>\n",
       "      <td>0</td>\n",
       "      <td>0</td>\n",
       "    </tr>\n",
       "    <tr>\n",
       "      <th>3</th>\n",
       "      <td>53</td>\n",
       "      <td>2</td>\n",
       "      <td>234721</td>\n",
       "      <td>2</td>\n",
       "      <td>7</td>\n",
       "      <td>1</td>\n",
       "      <td>2</td>\n",
       "      <td>1</td>\n",
       "      <td>1</td>\n",
       "      <td>0</td>\n",
       "      <td>0</td>\n",
       "      <td>0</td>\n",
       "      <td>40</td>\n",
       "      <td>0</td>\n",
       "      <td>0</td>\n",
       "    </tr>\n",
       "    <tr>\n",
       "      <th>4</th>\n",
       "      <td>28</td>\n",
       "      <td>2</td>\n",
       "      <td>338409</td>\n",
       "      <td>0</td>\n",
       "      <td>13</td>\n",
       "      <td>1</td>\n",
       "      <td>3</td>\n",
       "      <td>2</td>\n",
       "      <td>1</td>\n",
       "      <td>1</td>\n",
       "      <td>0</td>\n",
       "      <td>0</td>\n",
       "      <td>40</td>\n",
       "      <td>1</td>\n",
       "      <td>0</td>\n",
       "    </tr>\n",
       "  </tbody>\n",
       "</table>\n",
       "</div>"
      ],
      "text/plain": [
       "   age  workclass  fnlwgt  education  education-num  marital-status  \\\n",
       "0   39          0   77516          0             13               0   \n",
       "1   50          1   83311          0             13               1   \n",
       "2   38          2  215646          1              9               2   \n",
       "3   53          2  234721          2              7               1   \n",
       "4   28          2  338409          0             13               1   \n",
       "\n",
       "   occupation  relationship  race  sex  capital-gain  capital-loss  \\\n",
       "0           0             0     0    0          2174             0   \n",
       "1           1             1     0    0             0             0   \n",
       "2           2             0     0    0             0             0   \n",
       "3           2             1     1    0             0             0   \n",
       "4           3             2     1    1             0             0   \n",
       "\n",
       "   hours-per-week  native-country  income  \n",
       "0              40               0       0  \n",
       "1              13               0       0  \n",
       "2              40               0       0  \n",
       "3              40               0       0  \n",
       "4              40               1       0  "
      ]
     },
     "execution_count": 3,
     "metadata": {},
     "output_type": "execute_result"
    }
   ],
   "source": [
    "train_data.head()"
   ]
  },
  {
   "cell_type": "markdown",
   "metadata": {},
   "source": [
    "**Basic Statistics About Data**"
   ]
  },
  {
   "cell_type": "code",
   "execution_count": 4,
   "metadata": {},
   "outputs": [
    {
     "name": "stdout",
     "output_type": "stream",
     "text": [
      "<class 'pandas.core.frame.DataFrame'>\n",
      "RangeIndex: 32561 entries, 0 to 32560\n",
      "Data columns (total 15 columns):\n",
      " #   Column          Non-Null Count  Dtype\n",
      "---  ------          --------------  -----\n",
      " 0   age             32561 non-null  int64\n",
      " 1   workclass       32561 non-null  int64\n",
      " 2   fnlwgt          32561 non-null  int64\n",
      " 3   education       32561 non-null  int64\n",
      " 4   education-num   32561 non-null  int64\n",
      " 5   marital-status  32561 non-null  int64\n",
      " 6   occupation      32561 non-null  int64\n",
      " 7   relationship    32561 non-null  int64\n",
      " 8   race            32561 non-null  int64\n",
      " 9   sex             32561 non-null  int64\n",
      " 10  capital-gain    32561 non-null  int64\n",
      " 11  capital-loss    32561 non-null  int64\n",
      " 12  hours-per-week  32561 non-null  int64\n",
      " 13  native-country  32561 non-null  int64\n",
      " 14  income          32561 non-null  int64\n",
      "dtypes: int64(15)\n",
      "memory usage: 3.7 MB\n"
     ]
    }
   ],
   "source": [
    "train_data.info()"
   ]
  },
  {
   "cell_type": "code",
   "execution_count": 5,
   "metadata": {},
   "outputs": [
    {
     "data": {
      "text/html": [
       "<div>\n",
       "<style scoped>\n",
       "    .dataframe tbody tr th:only-of-type {\n",
       "        vertical-align: middle;\n",
       "    }\n",
       "\n",
       "    .dataframe tbody tr th {\n",
       "        vertical-align: top;\n",
       "    }\n",
       "\n",
       "    .dataframe thead th {\n",
       "        text-align: right;\n",
       "    }\n",
       "</style>\n",
       "<table border=\"1\" class=\"dataframe\">\n",
       "  <thead>\n",
       "    <tr style=\"text-align: right;\">\n",
       "      <th></th>\n",
       "      <th>age</th>\n",
       "      <th>workclass</th>\n",
       "      <th>fnlwgt</th>\n",
       "      <th>education</th>\n",
       "      <th>education-num</th>\n",
       "      <th>marital-status</th>\n",
       "      <th>occupation</th>\n",
       "      <th>relationship</th>\n",
       "      <th>race</th>\n",
       "      <th>sex</th>\n",
       "      <th>capital-gain</th>\n",
       "      <th>capital-loss</th>\n",
       "      <th>hours-per-week</th>\n",
       "      <th>native-country</th>\n",
       "      <th>income</th>\n",
       "    </tr>\n",
       "  </thead>\n",
       "  <tbody>\n",
       "    <tr>\n",
       "      <th>count</th>\n",
       "      <td>32561.000000</td>\n",
       "      <td>32561.000000</td>\n",
       "      <td>3.256100e+04</td>\n",
       "      <td>32561.000000</td>\n",
       "      <td>32561.000000</td>\n",
       "      <td>32561.000000</td>\n",
       "      <td>32561.000000</td>\n",
       "      <td>32561.000000</td>\n",
       "      <td>32561.000000</td>\n",
       "      <td>32561.000000</td>\n",
       "      <td>32561.000000</td>\n",
       "      <td>32561.000000</td>\n",
       "      <td>32561.000000</td>\n",
       "      <td>32561.000000</td>\n",
       "      <td>32561.000000</td>\n",
       "    </tr>\n",
       "    <tr>\n",
       "      <th>mean</th>\n",
       "      <td>38.581647</td>\n",
       "      <td>2.309972</td>\n",
       "      <td>1.897784e+05</td>\n",
       "      <td>3.424465</td>\n",
       "      <td>10.080679</td>\n",
       "      <td>1.083781</td>\n",
       "      <td>4.666411</td>\n",
       "      <td>1.542397</td>\n",
       "      <td>0.221707</td>\n",
       "      <td>0.330795</td>\n",
       "      <td>1077.648844</td>\n",
       "      <td>87.303830</td>\n",
       "      <td>40.437456</td>\n",
       "      <td>1.290317</td>\n",
       "      <td>0.240810</td>\n",
       "    </tr>\n",
       "    <tr>\n",
       "      <th>std</th>\n",
       "      <td>13.640433</td>\n",
       "      <td>1.225728</td>\n",
       "      <td>1.055500e+05</td>\n",
       "      <td>3.453582</td>\n",
       "      <td>2.572720</td>\n",
       "      <td>1.251381</td>\n",
       "      <td>3.386119</td>\n",
       "      <td>1.437431</td>\n",
       "      <td>0.627348</td>\n",
       "      <td>0.470506</td>\n",
       "      <td>7385.292085</td>\n",
       "      <td>402.960219</td>\n",
       "      <td>12.347429</td>\n",
       "      <td>5.045373</td>\n",
       "      <td>0.427581</td>\n",
       "    </tr>\n",
       "    <tr>\n",
       "      <th>min</th>\n",
       "      <td>17.000000</td>\n",
       "      <td>0.000000</td>\n",
       "      <td>1.228500e+04</td>\n",
       "      <td>0.000000</td>\n",
       "      <td>1.000000</td>\n",
       "      <td>0.000000</td>\n",
       "      <td>0.000000</td>\n",
       "      <td>0.000000</td>\n",
       "      <td>0.000000</td>\n",
       "      <td>0.000000</td>\n",
       "      <td>0.000000</td>\n",
       "      <td>0.000000</td>\n",
       "      <td>1.000000</td>\n",
       "      <td>0.000000</td>\n",
       "      <td>0.000000</td>\n",
       "    </tr>\n",
       "    <tr>\n",
       "      <th>25%</th>\n",
       "      <td>28.000000</td>\n",
       "      <td>2.000000</td>\n",
       "      <td>1.178270e+05</td>\n",
       "      <td>1.000000</td>\n",
       "      <td>9.000000</td>\n",
       "      <td>0.000000</td>\n",
       "      <td>2.000000</td>\n",
       "      <td>0.000000</td>\n",
       "      <td>0.000000</td>\n",
       "      <td>0.000000</td>\n",
       "      <td>0.000000</td>\n",
       "      <td>0.000000</td>\n",
       "      <td>40.000000</td>\n",
       "      <td>0.000000</td>\n",
       "      <td>0.000000</td>\n",
       "    </tr>\n",
       "    <tr>\n",
       "      <th>50%</th>\n",
       "      <td>37.000000</td>\n",
       "      <td>2.000000</td>\n",
       "      <td>1.783560e+05</td>\n",
       "      <td>2.000000</td>\n",
       "      <td>10.000000</td>\n",
       "      <td>1.000000</td>\n",
       "      <td>4.000000</td>\n",
       "      <td>1.000000</td>\n",
       "      <td>0.000000</td>\n",
       "      <td>0.000000</td>\n",
       "      <td>0.000000</td>\n",
       "      <td>0.000000</td>\n",
       "      <td>40.000000</td>\n",
       "      <td>0.000000</td>\n",
       "      <td>0.000000</td>\n",
       "    </tr>\n",
       "    <tr>\n",
       "      <th>75%</th>\n",
       "      <td>48.000000</td>\n",
       "      <td>2.000000</td>\n",
       "      <td>2.370510e+05</td>\n",
       "      <td>5.000000</td>\n",
       "      <td>12.000000</td>\n",
       "      <td>1.000000</td>\n",
       "      <td>7.000000</td>\n",
       "      <td>3.000000</td>\n",
       "      <td>0.000000</td>\n",
       "      <td>1.000000</td>\n",
       "      <td>0.000000</td>\n",
       "      <td>0.000000</td>\n",
       "      <td>45.000000</td>\n",
       "      <td>0.000000</td>\n",
       "      <td>0.000000</td>\n",
       "    </tr>\n",
       "    <tr>\n",
       "      <th>max</th>\n",
       "      <td>90.000000</td>\n",
       "      <td>8.000000</td>\n",
       "      <td>1.484705e+06</td>\n",
       "      <td>15.000000</td>\n",
       "      <td>16.000000</td>\n",
       "      <td>6.000000</td>\n",
       "      <td>14.000000</td>\n",
       "      <td>5.000000</td>\n",
       "      <td>4.000000</td>\n",
       "      <td>1.000000</td>\n",
       "      <td>99999.000000</td>\n",
       "      <td>4356.000000</td>\n",
       "      <td>99.000000</td>\n",
       "      <td>41.000000</td>\n",
       "      <td>1.000000</td>\n",
       "    </tr>\n",
       "  </tbody>\n",
       "</table>\n",
       "</div>"
      ],
      "text/plain": [
       "                age     workclass        fnlwgt     education  education-num  \\\n",
       "count  32561.000000  32561.000000  3.256100e+04  32561.000000   32561.000000   \n",
       "mean      38.581647      2.309972  1.897784e+05      3.424465      10.080679   \n",
       "std       13.640433      1.225728  1.055500e+05      3.453582       2.572720   \n",
       "min       17.000000      0.000000  1.228500e+04      0.000000       1.000000   \n",
       "25%       28.000000      2.000000  1.178270e+05      1.000000       9.000000   \n",
       "50%       37.000000      2.000000  1.783560e+05      2.000000      10.000000   \n",
       "75%       48.000000      2.000000  2.370510e+05      5.000000      12.000000   \n",
       "max       90.000000      8.000000  1.484705e+06     15.000000      16.000000   \n",
       "\n",
       "       marital-status    occupation  relationship          race           sex  \\\n",
       "count    32561.000000  32561.000000  32561.000000  32561.000000  32561.000000   \n",
       "mean         1.083781      4.666411      1.542397      0.221707      0.330795   \n",
       "std          1.251381      3.386119      1.437431      0.627348      0.470506   \n",
       "min          0.000000      0.000000      0.000000      0.000000      0.000000   \n",
       "25%          0.000000      2.000000      0.000000      0.000000      0.000000   \n",
       "50%          1.000000      4.000000      1.000000      0.000000      0.000000   \n",
       "75%          1.000000      7.000000      3.000000      0.000000      1.000000   \n",
       "max          6.000000     14.000000      5.000000      4.000000      1.000000   \n",
       "\n",
       "       capital-gain  capital-loss  hours-per-week  native-country  \\\n",
       "count  32561.000000  32561.000000    32561.000000    32561.000000   \n",
       "mean    1077.648844     87.303830       40.437456        1.290317   \n",
       "std     7385.292085    402.960219       12.347429        5.045373   \n",
       "min        0.000000      0.000000        1.000000        0.000000   \n",
       "25%        0.000000      0.000000       40.000000        0.000000   \n",
       "50%        0.000000      0.000000       40.000000        0.000000   \n",
       "75%        0.000000      0.000000       45.000000        0.000000   \n",
       "max    99999.000000   4356.000000       99.000000       41.000000   \n",
       "\n",
       "             income  \n",
       "count  32561.000000  \n",
       "mean       0.240810  \n",
       "std        0.427581  \n",
       "min        0.000000  \n",
       "25%        0.000000  \n",
       "50%        0.000000  \n",
       "75%        0.000000  \n",
       "max        1.000000  "
      ]
     },
     "execution_count": 5,
     "metadata": {},
     "output_type": "execute_result"
    }
   ],
   "source": [
    "train_data.describe()"
   ]
  },
  {
   "cell_type": "code",
   "execution_count": 6,
   "metadata": {},
   "outputs": [
    {
     "data": {
      "text/plain": [
       "0    24720\n",
       "1     7841\n",
       "Name: income, dtype: int64"
      ]
     },
     "execution_count": 6,
     "metadata": {},
     "output_type": "execute_result"
    }
   ],
   "source": [
    "train_data['income'].value_counts()"
   ]
  },
  {
   "cell_type": "code",
   "execution_count": 7,
   "metadata": {},
   "outputs": [
    {
     "data": {
      "text/plain": [
       "age               0.234037\n",
       "workclass         0.047203\n",
       "fnlwgt           -0.009463\n",
       "education        -0.046218\n",
       "education-num     0.335154\n",
       "marital-status    0.002644\n",
       "occupation       -0.104691\n",
       "relationship     -0.171294\n",
       "race             -0.067713\n",
       "sex              -0.215980\n",
       "capital-gain      0.223329\n",
       "capital-loss      0.150526\n",
       "hours-per-week    0.229689\n",
       "native-country   -0.028478\n",
       "income            1.000000\n",
       "Name: income, dtype: float64"
      ]
     },
     "execution_count": 7,
     "metadata": {},
     "output_type": "execute_result"
    }
   ],
   "source": [
    "train_data.corr()['income']"
   ]
  },
  {
   "cell_type": "markdown",
   "metadata": {},
   "source": [
    "# 1.0 Data Pre-Processing"
   ]
  },
  {
   "cell_type": "markdown",
   "metadata": {},
   "source": [
    "**DataFrameSelection function**"
   ]
  },
  {
   "cell_type": "code",
   "execution_count": 8,
   "metadata": {},
   "outputs": [],
   "source": [
    "from sklearn.base import BaseEstimator, TransformerMixin\n",
    "\n",
    "class DataFrameSelector(BaseEstimator, TransformerMixin):\n",
    "    def __init__(self, attribute_names):\n",
    "        self.attribute_names = attribute_names\n",
    "    def fit(self, X, y=None):\n",
    "        return self\n",
    "    def transform(self, X):\n",
    "        return X[self.attribute_names]"
   ]
  },
  {
   "cell_type": "markdown",
   "metadata": {},
   "source": [
    "**Pipelines with StandardScaling**"
   ]
  },
  {
   "cell_type": "code",
   "execution_count": 9,
   "metadata": {},
   "outputs": [],
   "source": [
    "from sklearn.pipeline import Pipeline\n",
    "from sklearn.preprocessing import StandardScaler\n",
    "\n",
    "num_pipeline = Pipeline([\n",
    "        ('Frame_selector', DataFrameSelector(['fnlwgt','capital-gain'])),\n",
    "        ('std_scaler', StandardScaler()),\n",
    "    ])\n"
   ]
  },
  {
   "cell_type": "code",
   "execution_count": 10,
   "metadata": {},
   "outputs": [
    {
     "data": {
      "text/plain": [
       "array([[-1.06361075,  0.1484529 ],\n",
       "       [-1.008707  , -0.14592048],\n",
       "       [ 0.2450785 , -0.14592048],\n",
       "       ...,\n",
       "       [-0.35877741, -0.14592048],\n",
       "       [ 0.11095988, -0.14592048],\n",
       "       [ 0.92989258,  1.88842434]])"
      ]
     },
     "execution_count": 10,
     "metadata": {},
     "output_type": "execute_result"
    }
   ],
   "source": [
    "num_pipeline.fit_transform(train_data)"
   ]
  },
  {
   "cell_type": "code",
   "execution_count": 11,
   "metadata": {},
   "outputs": [],
   "source": [
    "train_data[['fnlwgt','capital-gain']] = num_pipeline.fit_transform(train_data)"
   ]
  },
  {
   "cell_type": "code",
   "execution_count": 12,
   "metadata": {
    "scrolled": false
   },
   "outputs": [
    {
     "data": {
      "text/html": [
       "<div>\n",
       "<style scoped>\n",
       "    .dataframe tbody tr th:only-of-type {\n",
       "        vertical-align: middle;\n",
       "    }\n",
       "\n",
       "    .dataframe tbody tr th {\n",
       "        vertical-align: top;\n",
       "    }\n",
       "\n",
       "    .dataframe thead th {\n",
       "        text-align: right;\n",
       "    }\n",
       "</style>\n",
       "<table border=\"1\" class=\"dataframe\">\n",
       "  <thead>\n",
       "    <tr style=\"text-align: right;\">\n",
       "      <th></th>\n",
       "      <th>age</th>\n",
       "      <th>workclass</th>\n",
       "      <th>fnlwgt</th>\n",
       "      <th>education</th>\n",
       "      <th>education-num</th>\n",
       "      <th>marital-status</th>\n",
       "      <th>occupation</th>\n",
       "      <th>relationship</th>\n",
       "      <th>race</th>\n",
       "      <th>sex</th>\n",
       "      <th>capital-gain</th>\n",
       "      <th>capital-loss</th>\n",
       "      <th>hours-per-week</th>\n",
       "      <th>native-country</th>\n",
       "      <th>income</th>\n",
       "    </tr>\n",
       "  </thead>\n",
       "  <tbody>\n",
       "    <tr>\n",
       "      <th>0</th>\n",
       "      <td>39</td>\n",
       "      <td>0</td>\n",
       "      <td>-1.063611</td>\n",
       "      <td>0</td>\n",
       "      <td>13</td>\n",
       "      <td>0</td>\n",
       "      <td>0</td>\n",
       "      <td>0</td>\n",
       "      <td>0</td>\n",
       "      <td>0</td>\n",
       "      <td>0.148453</td>\n",
       "      <td>0</td>\n",
       "      <td>40</td>\n",
       "      <td>0</td>\n",
       "      <td>0</td>\n",
       "    </tr>\n",
       "    <tr>\n",
       "      <th>1</th>\n",
       "      <td>50</td>\n",
       "      <td>1</td>\n",
       "      <td>-1.008707</td>\n",
       "      <td>0</td>\n",
       "      <td>13</td>\n",
       "      <td>1</td>\n",
       "      <td>1</td>\n",
       "      <td>1</td>\n",
       "      <td>0</td>\n",
       "      <td>0</td>\n",
       "      <td>-0.145920</td>\n",
       "      <td>0</td>\n",
       "      <td>13</td>\n",
       "      <td>0</td>\n",
       "      <td>0</td>\n",
       "    </tr>\n",
       "    <tr>\n",
       "      <th>2</th>\n",
       "      <td>38</td>\n",
       "      <td>2</td>\n",
       "      <td>0.245079</td>\n",
       "      <td>1</td>\n",
       "      <td>9</td>\n",
       "      <td>2</td>\n",
       "      <td>2</td>\n",
       "      <td>0</td>\n",
       "      <td>0</td>\n",
       "      <td>0</td>\n",
       "      <td>-0.145920</td>\n",
       "      <td>0</td>\n",
       "      <td>40</td>\n",
       "      <td>0</td>\n",
       "      <td>0</td>\n",
       "    </tr>\n",
       "    <tr>\n",
       "      <th>3</th>\n",
       "      <td>53</td>\n",
       "      <td>2</td>\n",
       "      <td>0.425801</td>\n",
       "      <td>2</td>\n",
       "      <td>7</td>\n",
       "      <td>1</td>\n",
       "      <td>2</td>\n",
       "      <td>1</td>\n",
       "      <td>1</td>\n",
       "      <td>0</td>\n",
       "      <td>-0.145920</td>\n",
       "      <td>0</td>\n",
       "      <td>40</td>\n",
       "      <td>0</td>\n",
       "      <td>0</td>\n",
       "    </tr>\n",
       "    <tr>\n",
       "      <th>4</th>\n",
       "      <td>28</td>\n",
       "      <td>2</td>\n",
       "      <td>1.408176</td>\n",
       "      <td>0</td>\n",
       "      <td>13</td>\n",
       "      <td>1</td>\n",
       "      <td>3</td>\n",
       "      <td>2</td>\n",
       "      <td>1</td>\n",
       "      <td>1</td>\n",
       "      <td>-0.145920</td>\n",
       "      <td>0</td>\n",
       "      <td>40</td>\n",
       "      <td>1</td>\n",
       "      <td>0</td>\n",
       "    </tr>\n",
       "    <tr>\n",
       "      <th>...</th>\n",
       "      <td>...</td>\n",
       "      <td>...</td>\n",
       "      <td>...</td>\n",
       "      <td>...</td>\n",
       "      <td>...</td>\n",
       "      <td>...</td>\n",
       "      <td>...</td>\n",
       "      <td>...</td>\n",
       "      <td>...</td>\n",
       "      <td>...</td>\n",
       "      <td>...</td>\n",
       "      <td>...</td>\n",
       "      <td>...</td>\n",
       "      <td>...</td>\n",
       "      <td>...</td>\n",
       "    </tr>\n",
       "    <tr>\n",
       "      <th>32556</th>\n",
       "      <td>27</td>\n",
       "      <td>2</td>\n",
       "      <td>0.639741</td>\n",
       "      <td>6</td>\n",
       "      <td>12</td>\n",
       "      <td>1</td>\n",
       "      <td>10</td>\n",
       "      <td>2</td>\n",
       "      <td>0</td>\n",
       "      <td>1</td>\n",
       "      <td>-0.145920</td>\n",
       "      <td>0</td>\n",
       "      <td>38</td>\n",
       "      <td>0</td>\n",
       "      <td>0</td>\n",
       "    </tr>\n",
       "    <tr>\n",
       "      <th>32557</th>\n",
       "      <td>40</td>\n",
       "      <td>2</td>\n",
       "      <td>-0.335433</td>\n",
       "      <td>1</td>\n",
       "      <td>9</td>\n",
       "      <td>1</td>\n",
       "      <td>9</td>\n",
       "      <td>1</td>\n",
       "      <td>0</td>\n",
       "      <td>0</td>\n",
       "      <td>-0.145920</td>\n",
       "      <td>0</td>\n",
       "      <td>40</td>\n",
       "      <td>0</td>\n",
       "      <td>1</td>\n",
       "    </tr>\n",
       "    <tr>\n",
       "      <th>32558</th>\n",
       "      <td>58</td>\n",
       "      <td>2</td>\n",
       "      <td>-0.358777</td>\n",
       "      <td>1</td>\n",
       "      <td>9</td>\n",
       "      <td>6</td>\n",
       "      <td>0</td>\n",
       "      <td>4</td>\n",
       "      <td>0</td>\n",
       "      <td>1</td>\n",
       "      <td>-0.145920</td>\n",
       "      <td>0</td>\n",
       "      <td>40</td>\n",
       "      <td>0</td>\n",
       "      <td>0</td>\n",
       "    </tr>\n",
       "    <tr>\n",
       "      <th>32559</th>\n",
       "      <td>22</td>\n",
       "      <td>2</td>\n",
       "      <td>0.110960</td>\n",
       "      <td>1</td>\n",
       "      <td>9</td>\n",
       "      <td>0</td>\n",
       "      <td>0</td>\n",
       "      <td>3</td>\n",
       "      <td>0</td>\n",
       "      <td>0</td>\n",
       "      <td>-0.145920</td>\n",
       "      <td>0</td>\n",
       "      <td>20</td>\n",
       "      <td>0</td>\n",
       "      <td>0</td>\n",
       "    </tr>\n",
       "    <tr>\n",
       "      <th>32560</th>\n",
       "      <td>52</td>\n",
       "      <td>6</td>\n",
       "      <td>0.929893</td>\n",
       "      <td>1</td>\n",
       "      <td>9</td>\n",
       "      <td>1</td>\n",
       "      <td>1</td>\n",
       "      <td>2</td>\n",
       "      <td>0</td>\n",
       "      <td>1</td>\n",
       "      <td>1.888424</td>\n",
       "      <td>0</td>\n",
       "      <td>40</td>\n",
       "      <td>0</td>\n",
       "      <td>1</td>\n",
       "    </tr>\n",
       "  </tbody>\n",
       "</table>\n",
       "<p>32561 rows × 15 columns</p>\n",
       "</div>"
      ],
      "text/plain": [
       "       age  workclass    fnlwgt  education  education-num  marital-status  \\\n",
       "0       39          0 -1.063611          0             13               0   \n",
       "1       50          1 -1.008707          0             13               1   \n",
       "2       38          2  0.245079          1              9               2   \n",
       "3       53          2  0.425801          2              7               1   \n",
       "4       28          2  1.408176          0             13               1   \n",
       "...    ...        ...       ...        ...            ...             ...   \n",
       "32556   27          2  0.639741          6             12               1   \n",
       "32557   40          2 -0.335433          1              9               1   \n",
       "32558   58          2 -0.358777          1              9               6   \n",
       "32559   22          2  0.110960          1              9               0   \n",
       "32560   52          6  0.929893          1              9               1   \n",
       "\n",
       "       occupation  relationship  race  sex  capital-gain  capital-loss  \\\n",
       "0               0             0     0    0      0.148453             0   \n",
       "1               1             1     0    0     -0.145920             0   \n",
       "2               2             0     0    0     -0.145920             0   \n",
       "3               2             1     1    0     -0.145920             0   \n",
       "4               3             2     1    1     -0.145920             0   \n",
       "...           ...           ...   ...  ...           ...           ...   \n",
       "32556          10             2     0    1     -0.145920             0   \n",
       "32557           9             1     0    0     -0.145920             0   \n",
       "32558           0             4     0    1     -0.145920             0   \n",
       "32559           0             3     0    0     -0.145920             0   \n",
       "32560           1             2     0    1      1.888424             0   \n",
       "\n",
       "       hours-per-week  native-country  income  \n",
       "0                  40               0       0  \n",
       "1                  13               0       0  \n",
       "2                  40               0       0  \n",
       "3                  40               0       0  \n",
       "4                  40               1       0  \n",
       "...               ...             ...     ...  \n",
       "32556              38               0       0  \n",
       "32557              40               0       1  \n",
       "32558              40               0       0  \n",
       "32559              20               0       0  \n",
       "32560              40               0       1  \n",
       "\n",
       "[32561 rows x 15 columns]"
      ]
     },
     "execution_count": 12,
     "metadata": {},
     "output_type": "execute_result"
    }
   ],
   "source": [
    "train_data"
   ]
  },
  {
   "cell_type": "markdown",
   "metadata": {},
   "source": [
    "# 2.0 Train&Test splitting"
   ]
  },
  {
   "cell_type": "markdown",
   "metadata": {},
   "source": [
    "**Selecting Training and splitting features**"
   ]
  },
  {
   "cell_type": "code",
   "execution_count": 13,
   "metadata": {},
   "outputs": [],
   "source": [
    "y_data_train = train_data['income']\n",
    "x_data_train = train_data.iloc[:,:-1]"
   ]
  },
  {
   "cell_type": "markdown",
   "metadata": {},
   "source": [
    "**Selecting Model per request**"
   ]
  },
  {
   "cell_type": "code",
   "execution_count": 14,
   "metadata": {},
   "outputs": [],
   "source": [
    "from sklearn.ensemble import RandomForestClassifier"
   ]
  },
  {
   "cell_type": "code",
   "execution_count": 15,
   "metadata": {},
   "outputs": [],
   "source": [
    "forest_clf = RandomForestClassifier(random_state=42)"
   ]
  },
  {
   "cell_type": "markdown",
   "metadata": {},
   "source": [
    "**Cross-Validation to score the model(yet)**"
   ]
  },
  {
   "cell_type": "code",
   "execution_count": 16,
   "metadata": {},
   "outputs": [],
   "source": [
    "from sklearn.model_selection import cross_val_score"
   ]
  },
  {
   "cell_type": "code",
   "execution_count": 17,
   "metadata": {},
   "outputs": [],
   "source": [
    "forest_score = cross_val_score(forest_clf, x_data_train,y_data_train,cv=5)"
   ]
  },
  {
   "cell_type": "markdown",
   "metadata": {},
   "source": [
    "**Not Bad After All!!!**"
   ]
  },
  {
   "cell_type": "code",
   "execution_count": 18,
   "metadata": {},
   "outputs": [
    {
     "data": {
      "text/plain": [
       "0.8580205399067674"
      ]
     },
     "execution_count": 18,
     "metadata": {},
     "output_type": "execute_result"
    }
   ],
   "source": [
    "forest_score.mean()"
   ]
  },
  {
   "cell_type": "markdown",
   "metadata": {},
   "source": [
    "***is it the best we can get ?***"
   ]
  },
  {
   "cell_type": "markdown",
   "metadata": {},
   "source": [
    "### Let's see"
   ]
  },
  {
   "cell_type": "markdown",
   "metadata": {},
   "source": [
    "***For this assignment I have used the three most common and probably the best method for hyperparameter Tuning***"
   ]
  },
  {
   "cell_type": "markdown",
   "metadata": {},
   "source": [
    "### 1st.Validation Curve"
   ]
  },
  {
   "cell_type": "markdown",
   "metadata": {},
   "source": [
    "***A good way to visually check for potentially optimized values of model hyperparameters is with a validation curve. A validation curve can be plotted on a graph to show how well a model performs with different values of a single hyperparameter.***"
   ]
  },
  {
   "cell_type": "code",
   "execution_count": 19,
   "metadata": {},
   "outputs": [],
   "source": [
    "from sklearn.model_selection import validation_curve"
   ]
  },
  {
   "cell_type": "code",
   "execution_count": 20,
   "metadata": {},
   "outputs": [],
   "source": [
    "train_scoreNum, test_scoreNum = validation_curve(\n",
    "                                RandomForestClassifier(random_state=42),\n",
    "                                X = x_data_train, y = y_data_train, \n",
    "                                param_name = 'n_estimators', \n",
    "                                param_range = [10,100,300,500,750,800,1200], cv = 5)"
   ]
  },
  {
   "cell_type": "code",
   "execution_count": 22,
   "metadata": {},
   "outputs": [
    {
     "data": {
      "image/png": "[encoded data removed]",
      "text/plain": [
       "<Figure size 1080x432 with 1 Axes>"
      ]
     },
     "metadata": {
      "needs_background": "light"
     },
     "output_type": "display_data"
    }
   ],
   "source": [
    "param_range = [10,100,300,500,750,800,1200]\n",
    "# Calculate mean and standard deviation for training set scores\n",
    "train_mean = np.mean(train_scoreNum, axis=1)\n",
    "train_std = np.std(train_scoreNum, axis=1)\n",
    "\n",
    "# Calculate mean and standard deviation for test set scores\n",
    "test_mean = np.mean(test_scoreNum, axis=1)\n",
    "test_std = np.std(test_scoreNum, axis=1)\n",
    "\n",
    "# Plot mean accuracy scores for training and test sets\n",
    "plt.plot(param_range, train_mean, label=\"Training score\", color=\"black\")\n",
    "plt.plot(param_range, test_mean, label=\"Cross-validation score\", color=\"dimgrey\")\n",
    "\n",
    "# Plot accurancy bands for training and test sets\n",
    "plt.fill_between(param_range, train_mean - train_std, train_mean + train_std, color=\"gray\")\n",
    "plt.fill_between(param_range, test_mean - test_std, test_mean + test_std, color=\"gainsboro\")\n",
    "\n",
    "# Create plot\n",
    "plt.title(\"Validation Curve With Random Forest\")\n",
    "plt.xlabel(\"Number Of Trees or n_estimator\")\n",
    "plt.ylabel(\"Accuracy Score\")\n",
    "plt.tight_layout()\n",
    "plt.legend(loc=\"best\")\n",
    "plt.show()"
   ]
  },
  {
   "cell_type": "markdown",
   "metadata": {},
   "source": [
    "***The winner of n_estimator 'Visually' is 100***"
   ]
  },
  {
   "cell_type": "code",
   "execution_count": 23,
   "metadata": {},
   "outputs": [],
   "source": [
    "train_scoreNum1, test_scoreNum1 = validation_curve(RandomForestClassifier(random_state=42),\n",
    "                                                  X = x_data_train,y=y_data_train,\n",
    "                                                  param_name = 'max_depth',\n",
    "                                                  param_range = [5,10,15,20,25,30],\n",
    "                                                  cv= 5)"
   ]
  },
  {
   "cell_type": "code",
   "execution_count": 24,
   "metadata": {},
   "outputs": [
    {
     "data": {
      "image/png": "[encoded data removed]",
      "text/plain": [
       "<Figure size 1080x432 with 1 Axes>"
      ]
     },
     "metadata": {
      "needs_background": "light"
     },
     "output_type": "display_data"
    }
   ],
   "source": [
    "param_range = [5,10,15,20,25,30]\n",
    "# Calculate mean and standard deviation for training set scores\n",
    "train_mean = np.mean(train_scoreNum1, axis=1)\n",
    "train_std = np.std(train_scoreNum1, axis=1)\n",
    "\n",
    "# Calculate mean and standard deviation for test set scores\n",
    "test_mean = np.mean(test_scoreNum1, axis=1)\n",
    "test_std = np.std(test_scoreNum1, axis=1)\n",
    "\n",
    "# Plot mean accuracy scores for training and test sets\n",
    "plt.plot(param_range, train_mean, label=\"Training score\", color=\"black\")\n",
    "plt.plot(param_range, test_mean, label=\"Cross-validation score\", color=\"dimgrey\")\n",
    "\n",
    "# Plot accurancy bands for training and test sets\n",
    "plt.fill_between(param_range, train_mean - train_std, train_mean + train_std, color=\"gray\")\n",
    "plt.fill_between(param_range, test_mean - test_std, test_mean + test_std, color=\"gainsboro\")\n",
    "\n",
    "# Create plot\n",
    "plt.title(\"Validation Curve With Random Forest\")\n",
    "plt.xlabel(\"Max Depth\")\n",
    "plt.ylabel(\"Accuracy Score\")\n",
    "plt.tight_layout()\n",
    "plt.legend(loc=\"best\")\n",
    "plt.show()"
   ]
  },
  {
   "cell_type": "markdown",
   "metadata": {},
   "source": [
    "***The winner of Max Depth 'Visually' is 20***"
   ]
  },
  {
   "cell_type": "code",
   "execution_count": 25,
   "metadata": {},
   "outputs": [],
   "source": [
    "train_scoreNum2, test_scoreNum2 = validation_curve(RandomForestClassifier(random_state=42),\n",
    "                                                  X = x_data_train,y=y_data_train,\n",
    "                                                  param_name = 'min_samples_split',\n",
    "                                                  param_range = [5,10,15,20,25],\n",
    "                                                  cv= 5)"
   ]
  },
  {
   "cell_type": "code",
   "execution_count": 26,
   "metadata": {},
   "outputs": [
    {
     "data": {
      "image/png": "[encoded data removed]",
      "text/plain": [
       "<Figure size 1080x432 with 1 Axes>"
      ]
     },
     "metadata": {
      "needs_background": "light"
     },
     "output_type": "display_data"
    }
   ],
   "source": [
    "param_range = [5,10,15,20,25]\n",
    "# Calculate mean and standard deviation for training set scores\n",
    "train_mean = np.mean(train_scoreNum2, axis=1)\n",
    "train_std = np.std(train_scoreNum2, axis=1)\n",
    "\n",
    "# Calculate mean and standard deviation for test set scores\n",
    "test_mean = np.mean(test_scoreNum2, axis=1)\n",
    "test_std = np.std(test_scoreNum2, axis=1)\n",
    "\n",
    "# Plot mean accuracy scores for training and test sets\n",
    "plt.plot(param_range, train_mean, label=\"Training score\", color=\"black\")\n",
    "plt.plot(param_range, test_mean, label=\"Cross-validation score\", color=\"dimgrey\")\n",
    "\n",
    "# Plot accurancy bands for training and test sets\n",
    "plt.fill_between(param_range, train_mean - train_std, train_mean + train_std, color=\"gray\")\n",
    "plt.fill_between(param_range, test_mean - test_std, test_mean + test_std, color=\"gainsboro\")\n",
    "\n",
    "# Create plot\n",
    "plt.title(\"Validation Curve With Random Forest\")\n",
    "plt.xlabel(\"min_samples_split\")\n",
    "plt.ylabel(\"Accuracy Score\")\n",
    "plt.tight_layout()\n",
    "plt.legend(loc=\"best\")\n",
    "plt.show()"
   ]
  },
  {
   "cell_type": "markdown",
   "metadata": {},
   "source": [
    "***The winner of Min Samples Split 'Visually' is 5***"
   ]
  },
  {
   "cell_type": "code",
   "execution_count": 27,
   "metadata": {},
   "outputs": [],
   "source": [
    "train_scoreNum3, test_scoreNum3 = validation_curve(RandomForestClassifier(random_state=42),\n",
    "                                                  X = x_data_train,y=y_data_train,\n",
    "                                                  param_name = 'min_samples_leaf',\n",
    "                                                  param_range = [5,10,15,20,25,30],\n",
    "                                                  cv= 5)"
   ]
  },
  {
   "cell_type": "code",
   "execution_count": 28,
   "metadata": {},
   "outputs": [
    {
     "data": {
      "image/png": "[encoded data removed]",
      "text/plain": [
       "<Figure size 1080x432 with 1 Axes>"
      ]
     },
     "metadata": {
      "needs_background": "light"
     },
     "output_type": "display_data"
    }
   ],
   "source": [
    "param_range = [5,10,15,20,25,30]\n",
    "# Calculate mean and standard deviation for training set scores\n",
    "train_mean = np.mean(train_scoreNum3, axis=1)\n",
    "train_std = np.std(train_scoreNum3, axis=1)\n",
    "\n",
    "# Calculate mean and standard deviation for test set scores\n",
    "test_mean = np.mean(test_scoreNum3, axis=1)\n",
    "test_std = np.std(test_scoreNum3, axis=1)\n",
    "\n",
    "# Plot mean accuracy scores for training and test sets\n",
    "plt.plot(param_range, train_mean, label=\"Training score\", color=\"black\")\n",
    "plt.plot(param_range, test_mean, label=\"Cross-validation score\", color=\"dimgrey\")\n",
    "\n",
    "# Plot accurancy bands for training and test sets\n",
    "plt.fill_between(param_range, train_mean - train_std, train_mean + train_std, color=\"gray\")\n",
    "plt.fill_between(param_range, test_mean - test_std, test_mean + test_std, color=\"gainsboro\")\n",
    "\n",
    "# Create plot\n",
    "plt.title(\"Validation Curve With Random Forest\")\n",
    "plt.xlabel('min_samples_leaf')\n",
    "plt.ylabel(\"Accuracy Score\")\n",
    "plt.tight_layout()\n",
    "plt.legend(loc=\"best\")\n",
    "plt.show()"
   ]
  },
  {
   "cell_type": "markdown",
   "metadata": {},
   "source": [
    "**The winner of MinSamplesLeaf 'Visually' is 5**"
   ]
  },
  {
   "cell_type": "markdown",
   "metadata": {},
   "source": [
    "### 2nd. GridSearch"
   ]
  },
  {
   "cell_type": "markdown",
   "metadata": {},
   "source": [
    "***Another way to choose which hyperparameters to adjust is by conducting an exhaustive grid search or randomized search.\n",
    "An exhaustive grid search takes in as many hyperparameters as you would like, and tries every single possible combination of the hyperparameters as well as as many cross-validations as you would like it to perform. An exhaustive grid search is a good way to determine the best hyperparameter values to use, but it can quickly become time consuming with every additional parameter value and cross-validation that you add.***"
   ]
  },
  {
   "cell_type": "code",
   "execution_count": 32,
   "metadata": {},
   "outputs": [],
   "source": [
    "from sklearn.model_selection import GridSearchCV"
   ]
  },
  {
   "cell_type": "code",
   "execution_count": 33,
   "metadata": {},
   "outputs": [],
   "source": [
    "forest = RandomForestClassifier(random_state=42)"
   ]
  },
  {
   "cell_type": "code",
   "execution_count": 53,
   "metadata": {},
   "outputs": [],
   "source": [
    "n_estimators = [100, 300, 500, 800, 1200]\n",
    "max_depth = [5, 8, 15, 25, 30]\n",
    "min_samples_split = [2, 5, 10, 15, 100]\n",
    "min_samples_leaf = [1, 2, 5, 10] \n",
    "max_features = ['auto', 'sqrt']\n",
    "bootstrap = [True, False]\n",
    "\n",
    "param_grid = dict(n_estimators = n_estimators, max_depth = max_depth,  \n",
    "              min_samples_split = min_samples_split, \n",
    "             min_samples_leaf = min_samples_leaf)\n",
    "param_grid2 = dict(n_estimators = n_estimators, max_depth = max_depth,  \n",
    "              min_samples_split = min_samples_split, \n",
    "             min_samples_leaf = min_samples_leaf,\n",
    "                  bootstrap=bootstrap,\n",
    "                  max_features=max_features)"
   ]
  },
  {
   "cell_type": "code",
   "execution_count": 35,
   "metadata": {},
   "outputs": [],
   "source": [
    "grid_search = GridSearchCV(forest, param_grid=param_grid,\n",
    "                          cv=5,\n",
    "                          scoring='neg_mean_squared_error',\n",
    "                          return_train_score=True,\n",
    "                          n_jobs=-1, verbose=1)"
   ]
  },
  {
   "cell_type": "code",
   "execution_count": 36,
   "metadata": {},
   "outputs": [
    {
     "name": "stdout",
     "output_type": "stream",
     "text": [
      "Fitting 5 folds for each of 500 candidates, totalling 2500 fits\n"
     ]
    },
    {
     "name": "stderr",
     "output_type": "stream",
     "text": [
      "[Parallel(n_jobs=-1)]: Using backend LokyBackend with 8 concurrent workers.\n",
      "[Parallel(n_jobs=-1)]: Done  34 tasks      | elapsed:   22.5s\n",
      "[Parallel(n_jobs=-1)]: Done 184 tasks      | elapsed:  2.1min\n",
      "[Parallel(n_jobs=-1)]: Done 434 tasks      | elapsed:  4.9min\n",
      "[Parallel(n_jobs=-1)]: Done 784 tasks      | elapsed: 10.0min\n",
      "[Parallel(n_jobs=-1)]: Done 1234 tasks      | elapsed: 18.3min\n",
      "[Parallel(n_jobs=-1)]: Done 1784 tasks      | elapsed: 30.8min\n",
      "[Parallel(n_jobs=-1)]: Done 2434 tasks      | elapsed: 46.1min\n",
      "[Parallel(n_jobs=-1)]: Done 2500 out of 2500 | elapsed: 47.7min finished\n"
     ]
    },
    {
     "data": {
      "text/plain": [
       "GridSearchCV(cv=5, estimator=RandomForestClassifier(random_state=42), n_jobs=-1,\n",
       "             param_grid={'max_depth': [5, 8, 15, 25, 30],\n",
       "                         'min_samples_leaf': [1, 2, 5, 10],\n",
       "                         'min_samples_split': [2, 5, 10, 15, 100],\n",
       "                         'n_estimators': [100, 300, 500, 800, 1200]},\n",
       "             return_train_score=True, scoring='neg_mean_squared_error',\n",
       "             verbose=1)"
      ]
     },
     "execution_count": 36,
     "metadata": {},
     "output_type": "execute_result"
    }
   ],
   "source": [
    "grid_search.fit(x_data_train,y_data_train)"
   ]
  },
  {
   "cell_type": "code",
   "execution_count": 37,
   "metadata": {},
   "outputs": [
    {
     "data": {
      "text/plain": [
       "{'max_depth': 25,\n",
       " 'min_samples_leaf': 1,\n",
       " 'min_samples_split': 15,\n",
       " 'n_estimators': 300}"
      ]
     },
     "execution_count": 37,
     "metadata": {},
     "output_type": "execute_result"
    }
   ],
   "source": [
    "grid_search.best_params_"
   ]
  },
  {
   "cell_type": "markdown",
   "metadata": {},
   "source": [
    "***One of HyperParameter in RandomForest is MaxFeatures which tells \"How many Best feature should you select for best result\"\n",
    "Ofcourse I haven't used it here but just a HeadsUp if u do so, then it is possible to get a look at the features that actually\n",
    "your data's accuracy depends, thank me later :)***"
   ]
  },
  {
   "cell_type": "code",
   "execution_count": 38,
   "metadata": {},
   "outputs": [],
   "source": [
    "feature_importance = grid_search.best_estimator_.feature_importances_"
   ]
  },
  {
   "cell_type": "code",
   "execution_count": 39,
   "metadata": {},
   "outputs": [],
   "source": [
    "attributes = list(train_data.columns)"
   ]
  },
  {
   "cell_type": "code",
   "execution_count": 40,
   "metadata": {},
   "outputs": [
    {
     "data": {
      "text/plain": [
       "array([0.10939488, 0.02821219, 0.07525505, 0.03231857, 0.12414531,\n",
       "       0.12213027, 0.05842528, 0.10805456, 0.01049663, 0.02395365,\n",
       "       0.1734247 , 0.04992204, 0.06970364, 0.01456324])"
      ]
     },
     "execution_count": 40,
     "metadata": {},
     "output_type": "execute_result"
    }
   ],
   "source": [
    "feature_importance"
   ]
  },
  {
   "cell_type": "code",
   "execution_count": 41,
   "metadata": {},
   "outputs": [
    {
     "data": {
      "text/plain": [
       "[(0.17342469928925713, 'capital-gain'),\n",
       " (0.12414530893534441, 'education-num'),\n",
       " (0.12213026561984243, 'marital-status'),\n",
       " (0.10939488370749308, 'age'),\n",
       " (0.10805455879433673, 'relationship'),\n",
       " (0.07525504974051068, 'fnlwgt'),\n",
       " (0.06970363668241596, 'hours-per-week'),\n",
       " (0.058425280968053814, 'occupation'),\n",
       " (0.049922036733797207, 'capital-loss'),\n",
       " (0.032318565146900964, 'education'),\n",
       " (0.028212186907223973, 'workclass'),\n",
       " (0.023953654641528165, 'sex'),\n",
       " (0.01456324031142719, 'native-country'),\n",
       " (0.010496632521868101, 'race')]"
      ]
     },
     "execution_count": 41,
     "metadata": {},
     "output_type": "execute_result"
    }
   ],
   "source": [
    "sorted(zip(feature_importance, attributes), reverse=True)"
   ]
  },
  {
   "cell_type": "code",
   "execution_count": 42,
   "metadata": {},
   "outputs": [
    {
     "data": {
      "text/plain": [
       "-0.13467016543363847"
      ]
     },
     "execution_count": 42,
     "metadata": {},
     "output_type": "execute_result"
    }
   ],
   "source": [
    "grid_search.best_score_"
   ]
  },
  {
   "cell_type": "code",
   "execution_count": 43,
   "metadata": {},
   "outputs": [],
   "source": [
    "cvres = grid_search.cv_results_"
   ]
  },
  {
   "cell_type": "code",
   "execution_count": 44,
   "metadata": {},
   "outputs": [
    {
     "name": "stdout",
     "output_type": "stream",
     "text": [
      "0.39092295543652095 {'max_depth': 5, 'min_samples_leaf': 1, 'min_samples_split': 2, 'n_estimators': 100}\n",
      "0.3907657714054286 {'max_depth': 5, 'min_samples_leaf': 1, 'min_samples_split': 2, 'n_estimators': 300}\n",
      "0.3907657533041489 {'max_depth': 5, 'min_samples_leaf': 1, 'min_samples_split': 2, 'n_estimators': 500}\n",
      "0.39159013315550806 {'max_depth': 5, 'min_samples_leaf': 1, 'min_samples_split': 2, 'n_estimators': 800}\n",
      "0.3910014694852619 {'max_depth': 5, 'min_samples_leaf': 1, 'min_samples_split': 2, 'n_estimators': 1200}\n",
      "0.39052990692420847 {'max_depth': 5, 'min_samples_leaf': 1, 'min_samples_split': 5, 'n_estimators': 100}\n",
      "0.3909229192485172 {'max_depth': 5, 'min_samples_leaf': 1, 'min_samples_split': 5, 'n_estimators': 300}\n",
      "0.390765753304149 {'max_depth': 5, 'min_samples_leaf': 1, 'min_samples_split': 5, 'n_estimators': 500}\n",
      "0.39143323510699096 {'max_depth': 5, 'min_samples_leaf': 1, 'min_samples_split': 5, 'n_estimators': 800}\n",
      "0.3907657472703888 {'max_depth': 5, 'min_samples_leaf': 1, 'min_samples_split': 5, 'n_estimators': 1200}\n",
      "0.3912762982474091 {'max_depth': 5, 'min_samples_leaf': 1, 'min_samples_split': 10, 'n_estimators': 100}\n",
      "0.39162935838188667 {'max_depth': 5, 'min_samples_leaf': 1, 'min_samples_split': 10, 'n_estimators': 300}\n",
      "0.3913939962493532 {'max_depth': 5, 'min_samples_leaf': 1, 'min_samples_split': 10, 'n_estimators': 500}\n",
      "0.39190371072972513 {'max_depth': 5, 'min_samples_leaf': 1, 'min_samples_split': 10, 'n_estimators': 800}\n",
      "0.3913940022734282 {'max_depth': 5, 'min_samples_leaf': 1, 'min_samples_split': 10, 'n_estimators': 1200}\n",
      "0.39045120143321843 {'max_depth': 5, 'min_samples_leaf': 1, 'min_samples_split': 15, 'n_estimators': 100}\n",
      "0.3911585286644159 {'max_depth': 5, 'min_samples_leaf': 1, 'min_samples_split': 15, 'n_estimators': 300}\n",
      "0.39115850455360984 {'max_depth': 5, 'min_samples_leaf': 1, 'min_samples_split': 15, 'n_estimators': 500}\n",
      "0.39186450694888764 {'max_depth': 5, 'min_samples_leaf': 1, 'min_samples_split': 15, 'n_estimators': 800}\n",
      "0.3917861477989798 {'max_depth': 5, 'min_samples_leaf': 1, 'min_samples_split': 15, 'n_estimators': 1200}\n",
      "0.3909228529038349 {'max_depth': 5, 'min_samples_leaf': 1, 'min_samples_split': 100, 'n_estimators': 100}\n",
      "0.39080498887595555 {'max_depth': 5, 'min_samples_leaf': 1, 'min_samples_split': 100, 'n_estimators': 300}\n",
      "0.3914331688488029 {'max_depth': 5, 'min_samples_leaf': 1, 'min_samples_split': 100, 'n_estimators': 500}\n",
      "0.39202120833243725 {'max_depth': 5, 'min_samples_leaf': 1, 'min_samples_split': 100, 'n_estimators': 800}\n",
      "0.39206039644403956 {'max_depth': 5, 'min_samples_leaf': 1, 'min_samples_split': 100, 'n_estimators': 1200}\n",
      "0.3905299189990162 {'max_depth': 5, 'min_samples_leaf': 2, 'min_samples_split': 2, 'n_estimators': 100}\n",
      "0.3908836291628195 {'max_depth': 5, 'min_samples_leaf': 2, 'min_samples_split': 2, 'n_estimators': 300}\n",
      "0.39084434719253347 {'max_depth': 5, 'min_samples_leaf': 2, 'min_samples_split': 2, 'n_estimators': 500}\n",
      "0.3917077308389742 {'max_depth': 5, 'min_samples_leaf': 2, 'min_samples_split': 2, 'n_estimators': 800}\n",
      "0.39127626811797256 {'max_depth': 5, 'min_samples_leaf': 2, 'min_samples_split': 2, 'n_estimators': 1200}\n",
      "0.3899002535403516 {'max_depth': 5, 'min_samples_leaf': 2, 'min_samples_split': 5, 'n_estimators': 100}\n",
      "0.3910014815455068 {'max_depth': 5, 'min_samples_leaf': 2, 'min_samples_split': 5, 'n_estimators': 300}\n",
      "0.3909229071858485 {'max_depth': 5, 'min_samples_leaf': 2, 'min_samples_split': 5, 'n_estimators': 500}\n",
      "0.3915116769351877 {'max_depth': 5, 'min_samples_leaf': 2, 'min_samples_split': 5, 'n_estimators': 800}\n",
      "0.39143323510699096 {'max_depth': 5, 'min_samples_leaf': 2, 'min_samples_split': 5, 'n_estimators': 1200}\n",
      "0.3910015056659957 {'max_depth': 5, 'min_samples_leaf': 2, 'min_samples_split': 10, 'n_estimators': 100}\n",
      "0.3915509220645631 {'max_depth': 5, 'min_samples_leaf': 2, 'min_samples_split': 10, 'n_estimators': 300}\n",
      "0.3912762861956348 {'max_depth': 5, 'min_samples_leaf': 2, 'min_samples_split': 10, 'n_estimators': 500}\n",
      "0.3918253293327646 {'max_depth': 5, 'min_samples_leaf': 2, 'min_samples_split': 10, 'n_estimators': 800}\n",
      "0.39159012111339253 {'max_depth': 5, 'min_samples_leaf': 2, 'min_samples_split': 10, 'n_estimators': 1200}\n",
      "0.3899002233045816 {'max_depth': 5, 'min_samples_leaf': 2, 'min_samples_split': 15, 'n_estimators': 100}\n",
      "0.39104072361280473 {'max_depth': 5, 'min_samples_leaf': 2, 'min_samples_split': 15, 'n_estimators': 300}\n",
      "0.39115849852590806 {'max_depth': 5, 'min_samples_leaf': 2, 'min_samples_split': 15, 'n_estimators': 500}\n",
      "0.3919820403631845 {'max_depth': 5, 'min_samples_leaf': 2, 'min_samples_split': 15, 'n_estimators': 800}\n",
      "0.3920212323901838 {'max_depth': 5, 'min_samples_leaf': 2, 'min_samples_split': 15, 'n_estimators': 1200}\n",
      "0.3909621390477081 {'max_depth': 5, 'min_samples_leaf': 2, 'min_samples_split': 100, 'n_estimators': 100}\n",
      "0.3906871013603409 {'max_depth': 5, 'min_samples_leaf': 2, 'min_samples_split': 100, 'n_estimators': 300}\n",
      "0.3914331688488029 {'max_depth': 5, 'min_samples_leaf': 2, 'min_samples_split': 100, 'n_estimators': 500}\n",
      "0.3919428564484868 {'max_depth': 5, 'min_samples_leaf': 2, 'min_samples_split': 100, 'n_estimators': 800}\n",
      "0.3919820463782223 {'max_depth': 5, 'min_samples_leaf': 2, 'min_samples_split': 100, 'n_estimators': 1200}\n",
      "0.3913940022734282 {'max_depth': 5, 'min_samples_leaf': 5, 'min_samples_split': 2, 'n_estimators': 100}\n",
      "0.3917861477989798 {'max_depth': 5, 'min_samples_leaf': 5, 'min_samples_split': 2, 'n_estimators': 300}\n",
      "0.39174691419717667 {'max_depth': 5, 'min_samples_leaf': 5, 'min_samples_split': 2, 'n_estimators': 500}\n",
      "0.3920212203613107 {'max_depth': 5, 'min_samples_leaf': 5, 'min_samples_split': 2, 'n_estimators': 800}\n",
      "0.3915901090712765 {'max_depth': 5, 'min_samples_leaf': 5, 'min_samples_split': 2, 'n_estimators': 1200}\n",
      "0.3913940022734282 {'max_depth': 5, 'min_samples_leaf': 5, 'min_samples_split': 5, 'n_estimators': 100}\n",
      "0.3917861477989798 {'max_depth': 5, 'min_samples_leaf': 5, 'min_samples_split': 5, 'n_estimators': 300}\n",
      "0.39174691419717667 {'max_depth': 5, 'min_samples_leaf': 5, 'min_samples_split': 5, 'n_estimators': 500}\n",
      "0.3920212203613107 {'max_depth': 5, 'min_samples_leaf': 5, 'min_samples_split': 5, 'n_estimators': 800}\n",
      "0.3915901090712765 {'max_depth': 5, 'min_samples_leaf': 5, 'min_samples_split': 5, 'n_estimators': 1200}\n",
      "0.3913940022734282 {'max_depth': 5, 'min_samples_leaf': 5, 'min_samples_split': 10, 'n_estimators': 100}\n",
      "0.3917861477989798 {'max_depth': 5, 'min_samples_leaf': 5, 'min_samples_split': 10, 'n_estimators': 300}\n",
      "0.39174691419717667 {'max_depth': 5, 'min_samples_leaf': 5, 'min_samples_split': 10, 'n_estimators': 500}\n",
      "0.3920212203613107 {'max_depth': 5, 'min_samples_leaf': 5, 'min_samples_split': 10, 'n_estimators': 800}\n",
      "0.3915901090712765 {'max_depth': 5, 'min_samples_leaf': 5, 'min_samples_split': 10, 'n_estimators': 1200}\n",
      "0.3909228589351701 {'max_depth': 5, 'min_samples_leaf': 5, 'min_samples_split': 15, 'n_estimators': 100}\n",
      "0.39119776100500486 {'max_depth': 5, 'min_samples_leaf': 5, 'min_samples_split': 15, 'n_estimators': 300}\n",
      "0.391236995437958 {'max_depth': 5, 'min_samples_leaf': 5, 'min_samples_split': 15, 'n_estimators': 500}\n",
      "0.3919428624641259 {'max_depth': 5, 'min_samples_leaf': 5, 'min_samples_split': 15, 'n_estimators': 800}\n",
      "0.3918645129657295 {'max_depth': 5, 'min_samples_leaf': 5, 'min_samples_split': 15, 'n_estimators': 1200}\n",
      "0.3906870953253661 {'max_depth': 5, 'min_samples_leaf': 5, 'min_samples_split': 100, 'n_estimators': 100}\n",
      "0.39049051691457126 {'max_depth': 5, 'min_samples_leaf': 5, 'min_samples_split': 100, 'n_estimators': 300}\n",
      "0.39166845928284344 {'max_depth': 5, 'min_samples_leaf': 5, 'min_samples_split': 100, 'n_estimators': 500}\n",
      "0.3921386947795571 {'max_depth': 5, 'min_samples_leaf': 5, 'min_samples_split': 100, 'n_estimators': 800}\n",
      "0.3919820343481467 {'max_depth': 5, 'min_samples_leaf': 5, 'min_samples_split': 100, 'n_estimators': 1200}\n",
      "0.3902939240683571 {'max_depth': 5, 'min_samples_leaf': 10, 'min_samples_split': 2, 'n_estimators': 100}\n",
      "0.39084431702979866 {'max_depth': 5, 'min_samples_leaf': 10, 'min_samples_split': 2, 'n_estimators': 300}\n",
      "0.3914724278714861 {'max_depth': 5, 'min_samples_leaf': 10, 'min_samples_split': 2, 'n_estimators': 500}\n",
      "0.3922170135529733 {'max_depth': 5, 'min_samples_leaf': 10, 'min_samples_split': 2, 'n_estimators': 800}\n",
      "0.39194288051104265 {'max_depth': 5, 'min_samples_leaf': 10, 'min_samples_split': 2, 'n_estimators': 1200}\n",
      "0.3902939240683571 {'max_depth': 5, 'min_samples_leaf': 10, 'min_samples_split': 5, 'n_estimators': 100}\n",
      "0.39084431702979866 {'max_depth': 5, 'min_samples_leaf': 10, 'min_samples_split': 5, 'n_estimators': 300}\n",
      "0.3914724278714861 {'max_depth': 5, 'min_samples_leaf': 10, 'min_samples_split': 5, 'n_estimators': 500}\n",
      "0.3922170135529733 {'max_depth': 5, 'min_samples_leaf': 10, 'min_samples_split': 5, 'n_estimators': 800}\n",
      "0.39194288051104265 {'max_depth': 5, 'min_samples_leaf': 10, 'min_samples_split': 5, 'n_estimators': 1200}\n",
      "0.3902939240683571 {'max_depth': 5, 'min_samples_leaf': 10, 'min_samples_split': 10, 'n_estimators': 100}\n",
      "0.39084431702979866 {'max_depth': 5, 'min_samples_leaf': 10, 'min_samples_split': 10, 'n_estimators': 300}\n",
      "0.3914724278714861 {'max_depth': 5, 'min_samples_leaf': 10, 'min_samples_split': 10, 'n_estimators': 500}\n",
      "0.3922170135529733 {'max_depth': 5, 'min_samples_leaf': 10, 'min_samples_split': 10, 'n_estimators': 800}\n",
      "0.39194288051104265 {'max_depth': 5, 'min_samples_leaf': 10, 'min_samples_split': 10, 'n_estimators': 1200}\n",
      "0.3902939240683571 {'max_depth': 5, 'min_samples_leaf': 10, 'min_samples_split': 15, 'n_estimators': 100}\n",
      "0.39084431702979866 {'max_depth': 5, 'min_samples_leaf': 10, 'min_samples_split': 15, 'n_estimators': 300}\n",
      "0.3914724278714861 {'max_depth': 5, 'min_samples_leaf': 10, 'min_samples_split': 15, 'n_estimators': 500}\n",
      "0.3922170135529733 {'max_depth': 5, 'min_samples_leaf': 10, 'min_samples_split': 15, 'n_estimators': 800}\n",
      "0.39194288051104265 {'max_depth': 5, 'min_samples_leaf': 10, 'min_samples_split': 15, 'n_estimators': 1200}\n",
      "0.3909228408411642 {'max_depth': 5, 'min_samples_leaf': 10, 'min_samples_split': 100, 'n_estimators': 100}\n",
      "0.3905691360045489 {'max_depth': 5, 'min_samples_leaf': 10, 'min_samples_split': 100, 'n_estimators': 300}\n",
      "0.3915900548817501 {'max_depth': 5, 'min_samples_leaf': 10, 'min_samples_split': 100, 'n_estimators': 500}\n",
      "0.39213869477955704 {'max_depth': 5, 'min_samples_leaf': 10, 'min_samples_split': 100, 'n_estimators': 800}\n",
      "0.39217787115140484 {'max_depth': 5, 'min_samples_leaf': 10, 'min_samples_split': 100, 'n_estimators': 1200}\n",
      "0.37854996412099085 {'max_depth': 8, 'min_samples_leaf': 1, 'min_samples_split': 2, 'n_estimators': 100}\n",
      "0.37915797858918726 {'max_depth': 8, 'min_samples_leaf': 1, 'min_samples_split': 2, 'n_estimators': 300}\n",
      "0.3795222749863438 {'max_depth': 8, 'min_samples_leaf': 1, 'min_samples_split': 2, 'n_estimators': 500}\n",
      "0.37960319054538383 {'max_depth': 8, 'min_samples_leaf': 1, 'min_samples_split': 2, 'n_estimators': 800}\n",
      "0.37952228119885595 {'max_depth': 8, 'min_samples_leaf': 1, 'min_samples_split': 2, 'n_estimators': 1200}\n",
      "0.3794413918828222 {'max_depth': 8, 'min_samples_leaf': 1, 'min_samples_split': 5, 'n_estimators': 100}\n",
      "0.37940088793437615 {'max_depth': 8, 'min_samples_leaf': 1, 'min_samples_split': 5, 'n_estimators': 300}\n",
      "0.3796436480681865 {'max_depth': 8, 'min_samples_leaf': 1, 'min_samples_split': 5, 'n_estimators': 500}\n",
      "0.37931995408396635 {'max_depth': 8, 'min_samples_leaf': 1, 'min_samples_split': 5, 'n_estimators': 800}\n",
      "0.3794413608136382 {'max_depth': 8, 'min_samples_leaf': 1, 'min_samples_split': 5, 'n_estimators': 1200}\n",
      "0.3798458338017019 {'max_depth': 8, 'min_samples_leaf': 1, 'min_samples_split': 10, 'n_estimators': 100}\n",
      "0.3798458089728197 {'max_depth': 8, 'min_samples_leaf': 1, 'min_samples_split': 10, 'n_estimators': 300}\n",
      "0.3799266494207367 {'max_depth': 8, 'min_samples_leaf': 1, 'min_samples_split': 10, 'n_estimators': 500}\n",
      "0.3799670849132864 {'max_depth': 8, 'min_samples_leaf': 1, 'min_samples_split': 10, 'n_estimators': 800}\n",
      "0.3799266618325364 {'max_depth': 8, 'min_samples_leaf': 1, 'min_samples_split': 10, 'n_estimators': 1200}\n",
      "0.38045175870486464 {'max_depth': 8, 'min_samples_leaf': 1, 'min_samples_split': 15, 'n_estimators': 100}\n",
      "0.3801690924311392 {'max_depth': 8, 'min_samples_leaf': 1, 'min_samples_split': 15, 'n_estimators': 300}\n",
      "0.38000747887573527 {'max_depth': 8, 'min_samples_leaf': 1, 'min_samples_split': 15, 'n_estimators': 500}\n",
      "0.3796436170155547 {'max_depth': 8, 'min_samples_leaf': 1, 'min_samples_split': 15, 'n_estimators': 800}\n",
      "0.37968406402081945 {'max_depth': 8, 'min_samples_leaf': 1, 'min_samples_split': 15, 'n_estimators': 1200}\n",
      "0.3823440198046292 {'max_depth': 8, 'min_samples_leaf': 1, 'min_samples_split': 100, 'n_estimators': 100}\n",
      "0.38222348570689735 {'max_depth': 8, 'min_samples_leaf': 1, 'min_samples_split': 100, 'n_estimators': 300}\n",
      "0.38226368441030023 {'max_depth': 8, 'min_samples_leaf': 1, 'min_samples_split': 100, 'n_estimators': 500}\n",
      "0.3820627967071241 {'max_depth': 8, 'min_samples_leaf': 1, 'min_samples_split': 100, 'n_estimators': 800}\n",
      "0.3822235227185425 {'max_depth': 8, 'min_samples_leaf': 1, 'min_samples_split': 100, 'n_estimators': 1200}\n",
      "0.3798458151800404 {'max_depth': 8, 'min_samples_leaf': 2, 'min_samples_split': 2, 'n_estimators': 100}\n",
      "0.37960319054538383 {'max_depth': 8, 'min_samples_leaf': 2, 'min_samples_split': 2, 'n_estimators': 300}\n",
      "0.37980539781607114 {'max_depth': 8, 'min_samples_leaf': 2, 'min_samples_split': 2, 'n_estimators': 500}\n",
      "0.37964364185766036 {'max_depth': 8, 'min_samples_leaf': 2, 'min_samples_split': 2, 'n_estimators': 800}\n",
      "0.3798458400089222 {'max_depth': 8, 'min_samples_leaf': 2, 'min_samples_split': 2, 'n_estimators': 1200}\n",
      "0.379238934572681 {'max_depth': 8, 'min_samples_leaf': 2, 'min_samples_split': 5, 'n_estimators': 100}\n",
      "0.3793604045220151 {'max_depth': 8, 'min_samples_leaf': 2, 'min_samples_split': 5, 'n_estimators': 300}\n",
      "0.3798053916081899 {'max_depth': 8, 'min_samples_leaf': 2, 'min_samples_split': 5, 'n_estimators': 500}\n",
      "0.38012871564237855 {'max_depth': 8, 'min_samples_leaf': 2, 'min_samples_split': 5, 'n_estimators': 800}\n",
      "0.38016910483502375 {'max_depth': 8, 'min_samples_leaf': 2, 'min_samples_split': 5, 'n_estimators': 1200}\n",
      "0.3800075036940543 {'max_depth': 8, 'min_samples_leaf': 2, 'min_samples_split': 10, 'n_estimators': 100}\n",
      "0.3800883221578707 {'max_depth': 8, 'min_samples_leaf': 2, 'min_samples_split': 10, 'n_estimators': 300}\n",
      "0.3800478933605323 {'max_depth': 8, 'min_samples_leaf': 2, 'min_samples_split': 10, 'n_estimators': 500}\n",
      "0.38000749128489497 {'max_depth': 8, 'min_samples_leaf': 2, 'min_samples_split': 10, 'n_estimators': 800}\n",
      "0.37968408265041403 {'max_depth': 8, 'min_samples_leaf': 2, 'min_samples_split': 10, 'n_estimators': 1200}\n",
      "0.38045175870486464 {'max_depth': 8, 'min_samples_leaf': 2, 'min_samples_split': 15, 'n_estimators': 100}\n",
      "0.38004788715661203 {'max_depth': 8, 'min_samples_leaf': 2, 'min_samples_split': 15, 'n_estimators': 300}\n",
      "0.3801286784267702 {'max_depth': 8, 'min_samples_leaf': 2, 'min_samples_split': 15, 'n_estimators': 500}\n",
      "0.3800478623409302 {'max_depth': 8, 'min_samples_leaf': 2, 'min_samples_split': 15, 'n_estimators': 800}\n",
      "0.3802498455476962 {'max_depth': 8, 'min_samples_leaf': 2, 'min_samples_split': 15, 'n_estimators': 1200}\n",
      "0.38198236513326467 {'max_depth': 8, 'min_samples_leaf': 2, 'min_samples_split': 100, 'n_estimators': 100}\n",
      "0.3822235165499353 {'max_depth': 8, 'min_samples_leaf': 2, 'min_samples_split': 100, 'n_estimators': 300}\n",
      "0.3821029814628619 {'max_depth': 8, 'min_samples_leaf': 2, 'min_samples_split': 100, 'n_estimators': 500}\n",
      "0.38214316816282445 {'max_depth': 8, 'min_samples_leaf': 2, 'min_samples_split': 100, 'n_estimators': 800}\n",
      "0.3821833691449093 {'max_depth': 8, 'min_samples_leaf': 2, 'min_samples_split': 100, 'n_estimators': 1200}\n",
      "0.3804113375423369 {'max_depth': 8, 'min_samples_leaf': 5, 'min_samples_split': 2, 'n_estimators': 100}\n",
      "0.3803306001163965 {'max_depth': 8, 'min_samples_leaf': 5, 'min_samples_split': 2, 'n_estimators': 300}\n",
      "0.3805727795956688 {'max_depth': 8, 'min_samples_leaf': 5, 'min_samples_split': 2, 'n_estimators': 500}\n",
      "0.38024987035019636 {'max_depth': 8, 'min_samples_leaf': 5, 'min_samples_split': 2, 'n_estimators': 800}\n",
      "0.38033062491363046 {'max_depth': 8, 'min_samples_leaf': 5, 'min_samples_split': 2, 'n_estimators': 1200}\n",
      "0.3804113375423369 {'max_depth': 8, 'min_samples_leaf': 5, 'min_samples_split': 5, 'n_estimators': 100}\n",
      "0.3803306001163965 {'max_depth': 8, 'min_samples_leaf': 5, 'min_samples_split': 5, 'n_estimators': 300}\n",
      "0.3805727795956688 {'max_depth': 8, 'min_samples_leaf': 5, 'min_samples_split': 5, 'n_estimators': 500}\n",
      "0.38024987035019636 {'max_depth': 8, 'min_samples_leaf': 5, 'min_samples_split': 5, 'n_estimators': 800}\n",
      "0.38033062491363046 {'max_depth': 8, 'min_samples_leaf': 5, 'min_samples_split': 5, 'n_estimators': 1200}\n",
      "0.3804113375423369 {'max_depth': 8, 'min_samples_leaf': 5, 'min_samples_split': 10, 'n_estimators': 100}\n",
      "0.3803306001163965 {'max_depth': 8, 'min_samples_leaf': 5, 'min_samples_split': 10, 'n_estimators': 300}\n",
      "0.3805727795956688 {'max_depth': 8, 'min_samples_leaf': 5, 'min_samples_split': 10, 'n_estimators': 500}\n",
      "0.38024987035019636 {'max_depth': 8, 'min_samples_leaf': 5, 'min_samples_split': 10, 'n_estimators': 800}\n",
      "0.38033062491363046 {'max_depth': 8, 'min_samples_leaf': 5, 'min_samples_split': 10, 'n_estimators': 1200}\n",
      "0.3800883345643911 {'max_depth': 8, 'min_samples_leaf': 5, 'min_samples_split': 15, 'n_estimators': 100}\n",
      "0.38024988275144583 {'max_depth': 8, 'min_samples_leaf': 5, 'min_samples_split': 15, 'n_estimators': 300}\n",
      "0.3804921012131741 {'max_depth': 8, 'min_samples_leaf': 5, 'min_samples_split': 15, 'n_estimators': 500}\n",
      "0.38065349043102087 {'max_depth': 8, 'min_samples_leaf': 5, 'min_samples_split': 15, 'n_estimators': 800}\n",
      "0.38049209501649667 {'max_depth': 8, 'min_samples_leaf': 5, 'min_samples_split': 15, 'n_estimators': 1200}\n",
      "0.38262503620784677 {'max_depth': 8, 'min_samples_leaf': 5, 'min_samples_split': 100, 'n_estimators': 100}\n",
      "0.3819823959957718 {'max_depth': 8, 'min_samples_leaf': 5, 'min_samples_split': 100, 'n_estimators': 300}\n",
      "0.38238419350467706 {'max_depth': 8, 'min_samples_leaf': 5, 'min_samples_split': 100, 'n_estimators': 500}\n",
      "0.38234403830461827 {'max_depth': 8, 'min_samples_leaf': 5, 'min_samples_split': 100, 'n_estimators': 800}\n",
      "0.38238419967069237 {'max_depth': 8, 'min_samples_leaf': 5, 'min_samples_split': 100, 'n_estimators': 1200}\n",
      "0.3815399850193536 {'max_depth': 8, 'min_samples_leaf': 10, 'min_samples_split': 2, 'n_estimators': 100}\n",
      "0.3810163569458543 {'max_depth': 8, 'min_samples_leaf': 10, 'min_samples_split': 2, 'n_estimators': 300}\n",
      "0.3809760637634932 {'max_depth': 8, 'min_samples_leaf': 10, 'min_samples_split': 2, 'n_estimators': 500}\n",
      "0.38117755512341156 {'max_depth': 8, 'min_samples_leaf': 10, 'min_samples_split': 2, 'n_estimators': 800}\n",
      "0.3809357663191523 {'max_depth': 8, 'min_samples_leaf': 10, 'min_samples_split': 2, 'n_estimators': 1200}\n",
      "0.3815399850193536 {'max_depth': 8, 'min_samples_leaf': 10, 'min_samples_split': 5, 'n_estimators': 100}\n",
      "0.3810163569458543 {'max_depth': 8, 'min_samples_leaf': 10, 'min_samples_split': 5, 'n_estimators': 300}\n",
      "0.3809760637634932 {'max_depth': 8, 'min_samples_leaf': 10, 'min_samples_split': 5, 'n_estimators': 500}\n",
      "0.38117755512341156 {'max_depth': 8, 'min_samples_leaf': 10, 'min_samples_split': 5, 'n_estimators': 800}\n",
      "0.3809357663191523 {'max_depth': 8, 'min_samples_leaf': 10, 'min_samples_split': 5, 'n_estimators': 1200}\n",
      "0.3815399850193536 {'max_depth': 8, 'min_samples_leaf': 10, 'min_samples_split': 10, 'n_estimators': 100}\n",
      "0.3810163569458543 {'max_depth': 8, 'min_samples_leaf': 10, 'min_samples_split': 10, 'n_estimators': 300}\n",
      "0.3809760637634932 {'max_depth': 8, 'min_samples_leaf': 10, 'min_samples_split': 10, 'n_estimators': 500}\n",
      "0.38117755512341156 {'max_depth': 8, 'min_samples_leaf': 10, 'min_samples_split': 10, 'n_estimators': 800}\n",
      "0.3809357663191523 {'max_depth': 8, 'min_samples_leaf': 10, 'min_samples_split': 10, 'n_estimators': 1200}\n",
      "0.3815399850193536 {'max_depth': 8, 'min_samples_leaf': 10, 'min_samples_split': 15, 'n_estimators': 100}\n",
      "0.3810163569458543 {'max_depth': 8, 'min_samples_leaf': 10, 'min_samples_split': 15, 'n_estimators': 300}\n",
      "0.3809760637634932 {'max_depth': 8, 'min_samples_leaf': 10, 'min_samples_split': 15, 'n_estimators': 500}\n",
      "0.38117755512341156 {'max_depth': 8, 'min_samples_leaf': 10, 'min_samples_split': 15, 'n_estimators': 800}\n",
      "0.3809357663191523 {'max_depth': 8, 'min_samples_leaf': 10, 'min_samples_split': 15, 'n_estimators': 1200}\n",
      "0.38286578899090157 {'max_depth': 8, 'min_samples_leaf': 10, 'min_samples_split': 100, 'n_estimators': 100}\n",
      "0.3821029999745212 {'max_depth': 8, 'min_samples_leaf': 10, 'min_samples_split': 100, 'n_estimators': 300}\n",
      "0.38206279053592185 {'max_depth': 8, 'min_samples_leaf': 10, 'min_samples_split': 100, 'n_estimators': 500}\n",
      "0.3823440321379553 {'max_depth': 8, 'min_samples_leaf': 10, 'min_samples_split': 100, 'n_estimators': 800}\n",
      "0.38234403830461827 {'max_depth': 8, 'min_samples_leaf': 10, 'min_samples_split': 100, 'n_estimators': 1200}\n",
      "0.3696425459620583 {'max_depth': 15, 'min_samples_leaf': 1, 'min_samples_split': 2, 'n_estimators': 100}\n",
      "0.3683942015494351 {'max_depth': 15, 'min_samples_leaf': 1, 'min_samples_split': 2, 'n_estimators': 300}\n",
      "0.3683108362578651 {'max_depth': 15, 'min_samples_leaf': 1, 'min_samples_split': 2, 'n_estimators': 500}\n",
      "0.3693101373610562 {'max_depth': 15, 'min_samples_leaf': 1, 'min_samples_split': 2, 'n_estimators': 800}\n",
      "0.36835253406384216 {'max_depth': 15, 'min_samples_leaf': 1, 'min_samples_split': 2, 'n_estimators': 1200}\n",
      "0.36947637266258815 {'max_depth': 15, 'min_samples_leaf': 1, 'min_samples_split': 5, 'n_estimators': 100}\n",
      "0.3688107901019849 {'max_depth': 15, 'min_samples_leaf': 1, 'min_samples_split': 5, 'n_estimators': 300}\n",
      "0.3686442418731666 {'max_depth': 15, 'min_samples_leaf': 1, 'min_samples_split': 5, 'n_estimators': 500}\n",
      "0.36885244417393204 {'max_depth': 15, 'min_samples_leaf': 1, 'min_samples_split': 5, 'n_estimators': 800}\n",
      "0.3689356806921607 {'max_depth': 15, 'min_samples_leaf': 1, 'min_samples_split': 5, 'n_estimators': 1200}\n",
      "0.36885237385948094 {'max_depth': 15, 'min_samples_leaf': 1, 'min_samples_split': 10, 'n_estimators': 100}\n",
      "0.36876917608069165 {'max_depth': 15, 'min_samples_leaf': 1, 'min_samples_split': 10, 'n_estimators': 300}\n",
      "0.36897730149495717 {'max_depth': 15, 'min_samples_leaf': 1, 'min_samples_split': 10, 'n_estimators': 500}\n",
      "0.36926855407268255 {'max_depth': 15, 'min_samples_leaf': 1, 'min_samples_split': 10, 'n_estimators': 800}\n",
      "0.36955950693230655 {'max_depth': 15, 'min_samples_leaf': 1, 'min_samples_split': 10, 'n_estimators': 1200}\n",
      "0.3696011212787345 {'max_depth': 15, 'min_samples_leaf': 1, 'min_samples_split': 15, 'n_estimators': 100}\n",
      "0.36935171596779504 {'max_depth': 15, 'min_samples_leaf': 1, 'min_samples_split': 15, 'n_estimators': 300}\n",
      "0.3693932771287536 {'max_depth': 15, 'min_samples_leaf': 1, 'min_samples_split': 15, 'n_estimators': 500}\n",
      "0.3700577674352457 {'max_depth': 15, 'min_samples_leaf': 1, 'min_samples_split': 15, 'n_estimators': 800}\n",
      "0.369476391806871 {'max_depth': 15, 'min_samples_leaf': 1, 'min_samples_split': 15, 'n_estimators': 1200}\n",
      "0.37332150601589614 {'max_depth': 15, 'min_samples_leaf': 1, 'min_samples_split': 100, 'n_estimators': 100}\n",
      "0.37471741337865233 {'max_depth': 15, 'min_samples_leaf': 1, 'min_samples_split': 100, 'n_estimators': 300}\n",
      "0.3741022449185362 {'max_depth': 15, 'min_samples_leaf': 1, 'min_samples_split': 100, 'n_estimators': 500}\n",
      "0.3738558865391321 {'max_depth': 15, 'min_samples_leaf': 1, 'min_samples_split': 100, 'n_estimators': 800}\n",
      "0.37422537589105265 {'max_depth': 15, 'min_samples_leaf': 1, 'min_samples_split': 100, 'n_estimators': 1200}\n",
      "0.3705139398806057 {'max_depth': 15, 'min_samples_leaf': 2, 'min_samples_split': 2, 'n_estimators': 100}\n",
      "0.3692686051528323 {'max_depth': 15, 'min_samples_leaf': 2, 'min_samples_split': 2, 'n_estimators': 300}\n",
      "0.3690605417964276 {'max_depth': 15, 'min_samples_leaf': 2, 'min_samples_split': 2, 'n_estimators': 500}\n",
      "0.36935170320063176 {'max_depth': 15, 'min_samples_leaf': 2, 'min_samples_split': 2, 'n_estimators': 800}\n",
      "0.36935170320063176 {'max_depth': 15, 'min_samples_leaf': 2, 'min_samples_split': 2, 'n_estimators': 1200}\n",
      "0.36968409356043236 {'max_depth': 15, 'min_samples_leaf': 2, 'min_samples_split': 5, 'n_estimators': 100}\n",
      "0.36897735900548523 {'max_depth': 15, 'min_samples_leaf': 2, 'min_samples_split': 5, 'n_estimators': 300}\n",
      "0.36881086042436406 {'max_depth': 15, 'min_samples_leaf': 2, 'min_samples_split': 5, 'n_estimators': 500}\n",
      "0.36885246335059824 {'max_depth': 15, 'min_samples_leaf': 2, 'min_samples_split': 5, 'n_estimators': 800}\n",
      "0.36914378248910773 {'max_depth': 15, 'min_samples_leaf': 2, 'min_samples_split': 5, 'n_estimators': 1200}\n",
      "0.3697256619984322 {'max_depth': 15, 'min_samples_leaf': 2, 'min_samples_split': 10, 'n_estimators': 100}\n",
      "0.3702237307266455 {'max_depth': 15, 'min_samples_leaf': 2, 'min_samples_split': 10, 'n_estimators': 300}\n",
      "0.3690189367714532 {'max_depth': 15, 'min_samples_leaf': 2, 'min_samples_split': 10, 'n_estimators': 500}\n",
      "0.36955950055231424 {'max_depth': 15, 'min_samples_leaf': 2, 'min_samples_split': 10, 'n_estimators': 800}\n",
      "0.3697256428670565 {'max_depth': 15, 'min_samples_leaf': 2, 'min_samples_split': 10, 'n_estimators': 1200}\n",
      "0.3694763790440159 {'max_depth': 15, 'min_samples_leaf': 2, 'min_samples_split': 15, 'n_estimators': 100}\n",
      "0.36993328753288574 {'max_depth': 15, 'min_samples_leaf': 2, 'min_samples_split': 15, 'n_estimators': 300}\n",
      "0.3693101245924556 {'max_depth': 15, 'min_samples_leaf': 2, 'min_samples_split': 15, 'n_estimators': 500}\n",
      "0.37022374983228246 {'max_depth': 15, 'min_samples_leaf': 2, 'min_samples_split': 15, 'n_estimators': 800}\n",
      "0.36993327478579374 {'max_depth': 15, 'min_samples_leaf': 2, 'min_samples_split': 15, 'n_estimators': 1200}\n",
      "0.3736915552868219 {'max_depth': 15, 'min_samples_leaf': 2, 'min_samples_split': 100, 'n_estimators': 100}\n",
      "0.3739790671010928 {'max_depth': 15, 'min_samples_leaf': 2, 'min_samples_split': 100, 'n_estimators': 300}\n",
      "0.3738969596435266 {'max_depth': 15, 'min_samples_leaf': 2, 'min_samples_split': 100, 'n_estimators': 500}\n",
      "0.37406123847759337 {'max_depth': 15, 'min_samples_leaf': 2, 'min_samples_split': 100, 'n_estimators': 800}\n",
      "0.37451255344087253 {'max_depth': 15, 'min_samples_leaf': 2, 'min_samples_split': 100, 'n_estimators': 1200}\n",
      "0.37072114937355977 {'max_depth': 15, 'min_samples_leaf': 5, 'min_samples_split': 2, 'n_estimators': 100}\n",
      "0.3710937154475637 {'max_depth': 15, 'min_samples_leaf': 5, 'min_samples_split': 2, 'n_estimators': 300}\n",
      "0.3713005505881898 {'max_depth': 15, 'min_samples_leaf': 5, 'min_samples_split': 2, 'n_estimators': 500}\n",
      "0.3708453393866891 {'max_depth': 15, 'min_samples_leaf': 5, 'min_samples_split': 2, 'n_estimators': 800}\n",
      "0.3707625315887843 {'max_depth': 15, 'min_samples_leaf': 5, 'min_samples_split': 2, 'n_estimators': 1200}\n",
      "0.37072114937355977 {'max_depth': 15, 'min_samples_leaf': 5, 'min_samples_split': 5, 'n_estimators': 100}\n",
      "0.3710937154475637 {'max_depth': 15, 'min_samples_leaf': 5, 'min_samples_split': 5, 'n_estimators': 300}\n",
      "0.3713005505881898 {'max_depth': 15, 'min_samples_leaf': 5, 'min_samples_split': 5, 'n_estimators': 500}\n",
      "0.3708453393866891 {'max_depth': 15, 'min_samples_leaf': 5, 'min_samples_split': 5, 'n_estimators': 800}\n",
      "0.3707625315887843 {'max_depth': 15, 'min_samples_leaf': 5, 'min_samples_split': 5, 'n_estimators': 1200}\n",
      "0.37072114937355977 {'max_depth': 15, 'min_samples_leaf': 5, 'min_samples_split': 10, 'n_estimators': 100}\n",
      "0.3710937154475637 {'max_depth': 15, 'min_samples_leaf': 5, 'min_samples_split': 10, 'n_estimators': 300}\n",
      "0.3713005505881898 {'max_depth': 15, 'min_samples_leaf': 5, 'min_samples_split': 10, 'n_estimators': 500}\n",
      "0.3708453393866891 {'max_depth': 15, 'min_samples_leaf': 5, 'min_samples_split': 10, 'n_estimators': 800}\n",
      "0.3707625315887843 {'max_depth': 15, 'min_samples_leaf': 5, 'min_samples_split': 10, 'n_estimators': 1200}\n",
      "0.37018228191029223 {'max_depth': 15, 'min_samples_leaf': 5, 'min_samples_split': 15, 'n_estimators': 100}\n",
      "0.3710937218011792 {'max_depth': 15, 'min_samples_leaf': 5, 'min_samples_split': 15, 'n_estimators': 300}\n",
      "0.3713005696384179 {'max_depth': 15, 'min_samples_leaf': 5, 'min_samples_split': 15, 'n_estimators': 500}\n",
      "0.37092815412398566 {'max_depth': 15, 'min_samples_leaf': 5, 'min_samples_split': 15, 'n_estimators': 800}\n",
      "0.37125921564140957 {'max_depth': 15, 'min_samples_leaf': 5, 'min_samples_split': 15, 'n_estimators': 1200}\n",
      "0.3742253506892676 {'max_depth': 15, 'min_samples_leaf': 5, 'min_samples_split': 100, 'n_estimators': 100}\n",
      "0.3743894728328725 {'max_depth': 15, 'min_samples_leaf': 5, 'min_samples_split': 100, 'n_estimators': 300}\n",
      "0.3745535167663941 {'max_depth': 15, 'min_samples_leaf': 5, 'min_samples_split': 100, 'n_estimators': 500}\n",
      "0.3750042141272423 {'max_depth': 15, 'min_samples_leaf': 5, 'min_samples_split': 100, 'n_estimators': 800}\n",
      "0.37512704275395575 {'max_depth': 15, 'min_samples_leaf': 5, 'min_samples_split': 100, 'n_estimators': 1200}\n",
      "0.37241551205402723 {'max_depth': 15, 'min_samples_leaf': 10, 'min_samples_split': 2, 'n_estimators': 100}\n",
      "0.3720442506207003 {'max_depth': 15, 'min_samples_leaf': 10, 'min_samples_split': 2, 'n_estimators': 300}\n",
      "0.372374338862772 {'max_depth': 15, 'min_samples_leaf': 10, 'min_samples_split': 2, 'n_estimators': 500}\n",
      "0.371879125157914 {'max_depth': 15, 'min_samples_leaf': 10, 'min_samples_split': 2, 'n_estimators': 800}\n",
      "0.3722918268237529 {'max_depth': 15, 'min_samples_leaf': 10, 'min_samples_split': 2, 'n_estimators': 1200}\n",
      "0.37241551205402723 {'max_depth': 15, 'min_samples_leaf': 10, 'min_samples_split': 5, 'n_estimators': 100}\n",
      "0.3720442506207003 {'max_depth': 15, 'min_samples_leaf': 10, 'min_samples_split': 5, 'n_estimators': 300}\n",
      "0.372374338862772 {'max_depth': 15, 'min_samples_leaf': 10, 'min_samples_split': 5, 'n_estimators': 500}\n",
      "0.371879125157914 {'max_depth': 15, 'min_samples_leaf': 10, 'min_samples_split': 5, 'n_estimators': 800}\n",
      "0.3722918268237529 {'max_depth': 15, 'min_samples_leaf': 10, 'min_samples_split': 5, 'n_estimators': 1200}\n",
      "0.37241551205402723 {'max_depth': 15, 'min_samples_leaf': 10, 'min_samples_split': 10, 'n_estimators': 100}\n",
      "0.3720442506207003 {'max_depth': 15, 'min_samples_leaf': 10, 'min_samples_split': 10, 'n_estimators': 300}\n",
      "0.372374338862772 {'max_depth': 15, 'min_samples_leaf': 10, 'min_samples_split': 10, 'n_estimators': 500}\n",
      "0.371879125157914 {'max_depth': 15, 'min_samples_leaf': 10, 'min_samples_split': 10, 'n_estimators': 800}\n",
      "0.3722918268237529 {'max_depth': 15, 'min_samples_leaf': 10, 'min_samples_split': 10, 'n_estimators': 1200}\n",
      "0.37241551205402723 {'max_depth': 15, 'min_samples_leaf': 10, 'min_samples_split': 15, 'n_estimators': 100}\n",
      "0.3720442506207003 {'max_depth': 15, 'min_samples_leaf': 10, 'min_samples_split': 15, 'n_estimators': 300}\n",
      "0.372374338862772 {'max_depth': 15, 'min_samples_leaf': 10, 'min_samples_split': 15, 'n_estimators': 500}\n",
      "0.371879125157914 {'max_depth': 15, 'min_samples_leaf': 10, 'min_samples_split': 15, 'n_estimators': 800}\n",
      "0.3722918268237529 {'max_depth': 15, 'min_samples_leaf': 10, 'min_samples_split': 15, 'n_estimators': 1200}\n",
      "0.3765162061796949 {'max_depth': 15, 'min_samples_leaf': 10, 'min_samples_split': 100, 'n_estimators': 100}\n",
      "0.3755361311350279 {'max_depth': 15, 'min_samples_leaf': 10, 'min_samples_split': 100, 'n_estimators': 300}\n",
      "0.3757405396773165 {'max_depth': 15, 'min_samples_leaf': 10, 'min_samples_split': 100, 'n_estimators': 500}\n",
      "0.3756588046708385 {'max_depth': 15, 'min_samples_leaf': 10, 'min_samples_split': 100, 'n_estimators': 800}\n",
      "0.3757814130625505 {'max_depth': 15, 'min_samples_leaf': 10, 'min_samples_split': 100, 'n_estimators': 1200}\n",
      "0.37167274521122085 {'max_depth': 25, 'min_samples_leaf': 1, 'min_samples_split': 2, 'n_estimators': 100}\n",
      "0.37055549158164214 {'max_depth': 25, 'min_samples_leaf': 1, 'min_samples_split': 2, 'n_estimators': 300}\n",
      "0.369684189228052 {'max_depth': 25, 'min_samples_leaf': 1, 'min_samples_split': 2, 'n_estimators': 500}\n",
      "0.36960111489946057 {'max_depth': 25, 'min_samples_leaf': 1, 'min_samples_split': 2, 'n_estimators': 800}\n",
      "0.3694348719069803 {'max_depth': 25, 'min_samples_leaf': 1, 'min_samples_split': 2, 'n_estimators': 1200}\n",
      "0.368519271708855 {'max_depth': 25, 'min_samples_leaf': 1, 'min_samples_split': 5, 'n_estimators': 100}\n",
      "0.36856093953583496 {'max_depth': 25, 'min_samples_leaf': 1, 'min_samples_split': 5, 'n_estimators': 300}\n",
      "0.3681857977551091 {'max_depth': 25, 'min_samples_leaf': 1, 'min_samples_split': 5, 'n_estimators': 500}\n",
      "0.36793551637329 {'max_depth': 25, 'min_samples_leaf': 1, 'min_samples_split': 5, 'n_estimators': 800}\n",
      "0.3679772951536645 {'max_depth': 25, 'min_samples_leaf': 1, 'min_samples_split': 5, 'n_estimators': 1200}\n",
      "0.36810234042895346 {'max_depth': 25, 'min_samples_leaf': 1, 'min_samples_split': 10, 'n_estimators': 100}\n",
      "0.3673089063313381 {'max_depth': 25, 'min_samples_leaf': 1, 'min_samples_split': 10, 'n_estimators': 300}\n",
      "0.36772674362554736 {'max_depth': 25, 'min_samples_leaf': 1, 'min_samples_split': 10, 'n_estimators': 500}\n",
      "0.3675596721216467 {'max_depth': 25, 'min_samples_leaf': 1, 'min_samples_split': 10, 'n_estimators': 800}\n",
      "0.36730891275042216 {'max_depth': 25, 'min_samples_leaf': 1, 'min_samples_split': 10, 'n_estimators': 1200}\n",
      "0.367559697780465 {'max_depth': 25, 'min_samples_leaf': 1, 'min_samples_split': 15, 'n_estimators': 100}\n",
      "0.36697433893071935 {'max_depth': 25, 'min_samples_leaf': 1, 'min_samples_split': 15, 'n_estimators': 300}\n",
      "0.36739255673021437 {'max_depth': 25, 'min_samples_leaf': 1, 'min_samples_split': 15, 'n_estimators': 500}\n",
      "0.3670998735664408 {'max_depth': 25, 'min_samples_leaf': 1, 'min_samples_split': 15, 'n_estimators': 800}\n",
      "0.3674761624226932 {'max_depth': 25, 'min_samples_leaf': 1, 'min_samples_split': 15, 'n_estimators': 1200}\n",
      "0.3707625761038179 {'max_depth': 25, 'min_samples_leaf': 1, 'min_samples_split': 100, 'n_estimators': 100}\n",
      "0.37105235110518514 {'max_depth': 25, 'min_samples_leaf': 1, 'min_samples_split': 100, 'n_estimators': 300}\n",
      "0.3704725171688595 {'max_depth': 25, 'min_samples_leaf': 1, 'min_samples_split': 100, 'n_estimators': 500}\n",
      "0.3706382883835055 {'max_depth': 25, 'min_samples_leaf': 1, 'min_samples_split': 100, 'n_estimators': 800}\n",
      "0.37051397169839223 {'max_depth': 25, 'min_samples_leaf': 1, 'min_samples_split': 100, 'n_estimators': 1200}\n",
      "0.3685609907140554 {'max_depth': 25, 'min_samples_leaf': 2, 'min_samples_split': 2, 'n_estimators': 100}\n",
      "0.368644280248159 {'max_depth': 25, 'min_samples_leaf': 2, 'min_samples_split': 2, 'n_estimators': 300}\n",
      "0.36872762770115736 {'max_depth': 25, 'min_samples_leaf': 2, 'min_samples_split': 2, 'n_estimators': 500}\n",
      "0.3683526364781869 {'max_depth': 25, 'min_samples_leaf': 2, 'min_samples_split': 2, 'n_estimators': 800}\n",
      "0.36889418302346133 {'max_depth': 25, 'min_samples_leaf': 2, 'min_samples_split': 2, 'n_estimators': 1200}\n",
      "0.3688108987820197 {'max_depth': 25, 'min_samples_leaf': 2, 'min_samples_split': 5, 'n_estimators': 100}\n",
      "0.36922706188715476 {'max_depth': 25, 'min_samples_leaf': 2, 'min_samples_split': 5, 'n_estimators': 300}\n",
      "0.3683526620817686 {'max_depth': 25, 'min_samples_leaf': 2, 'min_samples_split': 5, 'n_estimators': 500}\n",
      "0.3685193676788624 {'max_depth': 25, 'min_samples_leaf': 2, 'min_samples_split': 5, 'n_estimators': 800}\n",
      "0.3686443314148094 {'max_depth': 25, 'min_samples_leaf': 2, 'min_samples_split': 5, 'n_estimators': 1200}\n",
      "0.3683525404647396 {'max_depth': 25, 'min_samples_leaf': 2, 'min_samples_split': 10, 'n_estimators': 100}\n",
      "0.3673089512649246 {'max_depth': 25, 'min_samples_leaf': 2, 'min_samples_split': 10, 'n_estimators': 300}\n",
      "0.368310919478943 {'max_depth': 25, 'min_samples_leaf': 2, 'min_samples_split': 10, 'n_estimators': 500}\n",
      "0.3683943295528819 {'max_depth': 25, 'min_samples_leaf': 2, 'min_samples_split': 10, 'n_estimators': 800}\n",
      "0.3684776503598298 {'max_depth': 25, 'min_samples_leaf': 2, 'min_samples_split': 10, 'n_estimators': 1200}\n",
      "0.36768494920090017 {'max_depth': 25, 'min_samples_leaf': 2, 'min_samples_split': 15, 'n_estimators': 100}\n",
      "0.3676849492009002 {'max_depth': 25, 'min_samples_leaf': 2, 'min_samples_split': 15, 'n_estimators': 300}\n",
      "0.36806068474410086 {'max_depth': 25, 'min_samples_leaf': 2, 'min_samples_split': 15, 'n_estimators': 500}\n",
      "0.3677267564491278 {'max_depth': 25, 'min_samples_leaf': 2, 'min_samples_split': 15, 'n_estimators': 800}\n",
      "0.3676432333971954 {'max_depth': 25, 'min_samples_leaf': 2, 'min_samples_split': 15, 'n_estimators': 1200}\n",
      "0.37183779111873694 {'max_depth': 25, 'min_samples_leaf': 2, 'min_samples_split': 100, 'n_estimators': 100}\n",
      "0.3713005886886451 {'max_depth': 25, 'min_samples_leaf': 2, 'min_samples_split': 100, 'n_estimators': 300}\n",
      "0.3715073213465611 {'max_depth': 25, 'min_samples_leaf': 2, 'min_samples_split': 100, 'n_estimators': 500}\n",
      "0.3714246674831469 {'max_depth': 25, 'min_samples_leaf': 2, 'min_samples_split': 100, 'n_estimators': 800}\n",
      "0.3711351260029934 {'max_depth': 25, 'min_samples_leaf': 2, 'min_samples_split': 100, 'n_estimators': 1200}\n",
      "0.3691438144249929 {'max_depth': 25, 'min_samples_leaf': 5, 'min_samples_split': 2, 'n_estimators': 100}\n",
      "0.36926859238279547 {'max_depth': 25, 'min_samples_leaf': 5, 'min_samples_split': 2, 'n_estimators': 300}\n",
      "0.3692686498479574 {'max_depth': 25, 'min_samples_leaf': 5, 'min_samples_split': 2, 'n_estimators': 500}\n",
      "0.3693517861871851 {'max_depth': 25, 'min_samples_leaf': 5, 'min_samples_split': 2, 'n_estimators': 800}\n",
      "0.3695596217721491 {'max_depth': 25, 'min_samples_leaf': 5, 'min_samples_split': 2, 'n_estimators': 1200}\n",
      "0.3691438144249929 {'max_depth': 25, 'min_samples_leaf': 5, 'min_samples_split': 5, 'n_estimators': 100}\n",
      "0.36926859238279547 {'max_depth': 25, 'min_samples_leaf': 5, 'min_samples_split': 5, 'n_estimators': 300}\n",
      "0.3692686498479574 {'max_depth': 25, 'min_samples_leaf': 5, 'min_samples_split': 5, 'n_estimators': 500}\n",
      "0.3693517861871851 {'max_depth': 25, 'min_samples_leaf': 5, 'min_samples_split': 5, 'n_estimators': 800}\n",
      "0.3695596217721491 {'max_depth': 25, 'min_samples_leaf': 5, 'min_samples_split': 5, 'n_estimators': 1200}\n",
      "0.3691438144249929 {'max_depth': 25, 'min_samples_leaf': 5, 'min_samples_split': 10, 'n_estimators': 100}\n",
      "0.36926859238279547 {'max_depth': 25, 'min_samples_leaf': 5, 'min_samples_split': 10, 'n_estimators': 300}\n",
      "0.3692686498479574 {'max_depth': 25, 'min_samples_leaf': 5, 'min_samples_split': 10, 'n_estimators': 500}\n",
      "0.3693517861871851 {'max_depth': 25, 'min_samples_leaf': 5, 'min_samples_split': 10, 'n_estimators': 800}\n",
      "0.3695596217721491 {'max_depth': 25, 'min_samples_leaf': 5, 'min_samples_split': 10, 'n_estimators': 1200}\n",
      "0.36872757654606564 {'max_depth': 25, 'min_samples_leaf': 5, 'min_samples_split': 15, 'n_estimators': 100}\n",
      "0.3689773653955433 {'max_depth': 25, 'min_samples_leaf': 5, 'min_samples_split': 15, 'n_estimators': 300}\n",
      "0.36881085403142105 {'max_depth': 25, 'min_samples_leaf': 5, 'min_samples_split': 15, 'n_estimators': 500}\n",
      "0.3690605992939844 {'max_depth': 25, 'min_samples_leaf': 5, 'min_samples_split': 15, 'n_estimators': 800}\n",
      "0.36922697248683056 {'max_depth': 25, 'min_samples_leaf': 5, 'min_samples_split': 15, 'n_estimators': 1200}\n",
      "0.3726216767669516 {'max_depth': 25, 'min_samples_leaf': 5, 'min_samples_split': 100, 'n_estimators': 100}\n",
      "0.3731570089359298 {'max_depth': 25, 'min_samples_leaf': 5, 'min_samples_split': 100, 'n_estimators': 300}\n",
      "0.37241557536467124 {'max_depth': 25, 'min_samples_leaf': 5, 'min_samples_split': 100, 'n_estimators': 500}\n",
      "0.3722093535044626 {'max_depth': 25, 'min_samples_leaf': 5, 'min_samples_split': 100, 'n_estimators': 800}\n",
      "0.372498015684518 {'max_depth': 25, 'min_samples_leaf': 5, 'min_samples_split': 100, 'n_estimators': 1200}\n",
      "0.370472478983243 {'max_depth': 25, 'min_samples_leaf': 10, 'min_samples_split': 2, 'n_estimators': 100}\n",
      "0.36976721301058074 {'max_depth': 25, 'min_samples_leaf': 10, 'min_samples_split': 2, 'n_estimators': 300}\n",
      "0.3692685476876633 {'max_depth': 25, 'min_samples_leaf': 10, 'min_samples_split': 2, 'n_estimators': 500}\n",
      "0.3696010702445398 {'max_depth': 25, 'min_samples_leaf': 10, 'min_samples_split': 2, 'n_estimators': 800}\n",
      "0.3696841764723708 {'max_depth': 25, 'min_samples_leaf': 10, 'min_samples_split': 2, 'n_estimators': 1200}\n",
      "0.370472478983243 {'max_depth': 25, 'min_samples_leaf': 10, 'min_samples_split': 5, 'n_estimators': 100}\n",
      "0.36976721301058074 {'max_depth': 25, 'min_samples_leaf': 10, 'min_samples_split': 5, 'n_estimators': 300}\n",
      "0.3692685476876633 {'max_depth': 25, 'min_samples_leaf': 10, 'min_samples_split': 5, 'n_estimators': 500}\n",
      "0.3696010702445398 {'max_depth': 25, 'min_samples_leaf': 10, 'min_samples_split': 5, 'n_estimators': 800}\n",
      "0.3696841764723708 {'max_depth': 25, 'min_samples_leaf': 10, 'min_samples_split': 5, 'n_estimators': 1200}\n",
      "0.370472478983243 {'max_depth': 25, 'min_samples_leaf': 10, 'min_samples_split': 10, 'n_estimators': 100}\n",
      "0.36976721301058074 {'max_depth': 25, 'min_samples_leaf': 10, 'min_samples_split': 10, 'n_estimators': 300}\n",
      "0.3692685476876633 {'max_depth': 25, 'min_samples_leaf': 10, 'min_samples_split': 10, 'n_estimators': 500}\n",
      "0.3696010702445398 {'max_depth': 25, 'min_samples_leaf': 10, 'min_samples_split': 10, 'n_estimators': 800}\n",
      "0.3696841764723708 {'max_depth': 25, 'min_samples_leaf': 10, 'min_samples_split': 10, 'n_estimators': 1200}\n",
      "0.370472478983243 {'max_depth': 25, 'min_samples_leaf': 10, 'min_samples_split': 15, 'n_estimators': 100}\n",
      "0.36976721301058074 {'max_depth': 25, 'min_samples_leaf': 10, 'min_samples_split': 15, 'n_estimators': 300}\n",
      "0.3692685476876633 {'max_depth': 25, 'min_samples_leaf': 10, 'min_samples_split': 15, 'n_estimators': 500}\n",
      "0.3696010702445398 {'max_depth': 25, 'min_samples_leaf': 10, 'min_samples_split': 15, 'n_estimators': 800}\n",
      "0.3696841764723708 {'max_depth': 25, 'min_samples_leaf': 10, 'min_samples_split': 15, 'n_estimators': 1200}\n",
      "0.37323929180659354 {'max_depth': 25, 'min_samples_leaf': 10, 'min_samples_split': 100, 'n_estimators': 100}\n",
      "0.37410223231349654 {'max_depth': 25, 'min_samples_leaf': 10, 'min_samples_split': 100, 'n_estimators': 300}\n",
      "0.37369157421516025 {'max_depth': 25, 'min_samples_leaf': 10, 'min_samples_split': 100, 'n_estimators': 500}\n",
      "0.374143322487077 {'max_depth': 25, 'min_samples_leaf': 10, 'min_samples_split': 100, 'n_estimators': 800}\n",
      "0.3738969911734258 {'max_depth': 25, 'min_samples_leaf': 10, 'min_samples_split': 100, 'n_estimators': 1200}\n",
      "0.3748813389667181 {'max_depth': 30, 'min_samples_leaf': 1, 'min_samples_split': 2, 'n_estimators': 100}\n",
      "0.3731570152544143 {'max_depth': 30, 'min_samples_leaf': 1, 'min_samples_split': 2, 'n_estimators': 300}\n",
      "0.3735683682819929 {'max_depth': 30, 'min_samples_leaf': 1, 'min_samples_split': 2, 'n_estimators': 500}\n",
      "0.3741434422217859 {'max_depth': 30, 'min_samples_leaf': 1, 'min_samples_split': 2, 'n_estimators': 800}\n",
      "0.37422550820039613 {'max_depth': 30, 'min_samples_leaf': 1, 'min_samples_split': 2, 'n_estimators': 1200}\n",
      "0.3708454093232624 {'max_depth': 30, 'min_samples_leaf': 1, 'min_samples_split': 5, 'n_estimators': 100}\n",
      "0.36960107024453975 {'max_depth': 30, 'min_samples_leaf': 1, 'min_samples_split': 5, 'n_estimators': 300}\n",
      "0.36943485276054594 {'max_depth': 30, 'min_samples_leaf': 1, 'min_samples_split': 5, 'n_estimators': 500}\n",
      "0.36939330266020587 {'max_depth': 30, 'min_samples_leaf': 1, 'min_samples_split': 5, 'n_estimators': 800}\n",
      "0.3701408411923947 {'max_depth': 30, 'min_samples_leaf': 1, 'min_samples_split': 5, 'n_estimators': 1200}\n",
      "0.3690190326115137 {'max_depth': 30, 'min_samples_leaf': 1, 'min_samples_split': 10, 'n_estimators': 100}\n",
      "0.36997490444670983 {'max_depth': 30, 'min_samples_leaf': 1, 'min_samples_split': 10, 'n_estimators': 300}\n",
      "0.3691022379501584 {'max_depth': 30, 'min_samples_leaf': 1, 'min_samples_split': 10, 'n_estimators': 500}\n",
      "0.36876927837932677 {'max_depth': 30, 'min_samples_leaf': 1, 'min_samples_split': 10, 'n_estimators': 800}\n",
      "0.3688109179608461 {'max_depth': 30, 'min_samples_leaf': 1, 'min_samples_split': 10, 'n_estimators': 1200}\n",
      "0.36839431035236775 {'max_depth': 30, 'min_samples_leaf': 1, 'min_samples_split': 15, 'n_estimators': 100}\n",
      "0.3672252754009792 {'max_depth': 30, 'min_samples_leaf': 1, 'min_samples_split': 15, 'n_estimators': 300}\n",
      "0.36781026053448757 {'max_depth': 30, 'min_samples_leaf': 1, 'min_samples_split': 15, 'n_estimators': 500}\n",
      "0.36776850765629066 {'max_depth': 30, 'min_samples_leaf': 1, 'min_samples_split': 15, 'n_estimators': 800}\n",
      "0.36768497485097607 {'max_depth': 30, 'min_samples_leaf': 1, 'min_samples_split': 15, 'n_estimators': 1200}\n",
      "0.3699747578716145 {'max_depth': 30, 'min_samples_leaf': 1, 'min_samples_split': 100, 'n_estimators': 100}\n",
      "0.3698502564058374 {'max_depth': 30, 'min_samples_leaf': 1, 'min_samples_split': 100, 'n_estimators': 300}\n",
      "0.3697672002577636 {'max_depth': 30, 'min_samples_leaf': 1, 'min_samples_split': 100, 'n_estimators': 500}\n",
      "0.3707211239335559 {'max_depth': 30, 'min_samples_leaf': 1, 'min_samples_split': 100, 'n_estimators': 800}\n",
      "0.37072114937355977 {'max_depth': 30, 'min_samples_leaf': 1, 'min_samples_split': 100, 'n_estimators': 1200}\n",
      "0.3671417153285043 {'max_depth': 30, 'min_samples_leaf': 2, 'min_samples_split': 2, 'n_estimators': 100}\n",
      "0.368810905174962 {'max_depth': 30, 'min_samples_leaf': 2, 'min_samples_split': 2, 'n_estimators': 300}\n",
      "0.36910225711384653 {'max_depth': 30, 'min_samples_leaf': 2, 'min_samples_split': 2, 'n_estimators': 500}\n",
      "0.3686026602215618 {'max_depth': 30, 'min_samples_leaf': 2, 'min_samples_split': 2, 'n_estimators': 800}\n",
      "0.36876926559199896 {'max_depth': 30, 'min_samples_leaf': 2, 'min_samples_split': 2, 'n_estimators': 1200}\n",
      "0.36939333457451873 {'max_depth': 30, 'min_samples_leaf': 2, 'min_samples_split': 5, 'n_estimators': 100}\n",
      "0.36939336648882887 {'max_depth': 30, 'min_samples_leaf': 2, 'min_samples_split': 5, 'n_estimators': 300}\n",
      "0.36864436978979254 {'max_depth': 30, 'min_samples_leaf': 2, 'min_samples_split': 5, 'n_estimators': 500}\n",
      "0.3686443633939623 {'max_depth': 30, 'min_samples_leaf': 2, 'min_samples_split': 5, 'n_estimators': 800}\n",
      "0.3685194060668583 {'max_depth': 30, 'min_samples_leaf': 2, 'min_samples_split': 5, 'n_estimators': 1200}\n",
      "0.3686026474284537 {'max_depth': 30, 'min_samples_leaf': 2, 'min_samples_split': 10, 'n_estimators': 100}\n",
      "0.3672670900367164 {'max_depth': 30, 'min_samples_leaf': 2, 'min_samples_split': 10, 'n_estimators': 300}\n",
      "0.36793549074068027 {'max_depth': 30, 'min_samples_leaf': 2, 'min_samples_split': 10, 'n_estimators': 500}\n",
      "0.3682275225264936 {'max_depth': 30, 'min_samples_leaf': 2, 'min_samples_split': 10, 'n_estimators': 800}\n",
      "0.36835259807281096 {'max_depth': 30, 'min_samples_leaf': 2, 'min_samples_split': 10, 'n_estimators': 1200}\n",
      "0.3676849940885317 {'max_depth': 30, 'min_samples_leaf': 2, 'min_samples_split': 15, 'n_estimators': 100}\n",
      "0.36776850765629066 {'max_depth': 30, 'min_samples_leaf': 2, 'min_samples_split': 15, 'n_estimators': 300}\n",
      "0.36776851406735284 {'max_depth': 30, 'min_samples_leaf': 2, 'min_samples_split': 15, 'n_estimators': 500}\n",
      "0.36822749051113973 {'max_depth': 30, 'min_samples_leaf': 2, 'min_samples_split': 15, 'n_estimators': 800}\n",
      "0.36822749051113973 {'max_depth': 30, 'min_samples_leaf': 2, 'min_samples_split': 15, 'n_estimators': 1200}\n",
      "0.3707625888223979 {'max_depth': 30, 'min_samples_leaf': 2, 'min_samples_split': 100, 'n_estimators': 100}\n",
      "0.37121789514647213 {'max_depth': 30, 'min_samples_leaf': 2, 'min_samples_split': 100, 'n_estimators': 300}\n",
      "0.37105235110518514 {'max_depth': 30, 'min_samples_leaf': 2, 'min_samples_split': 100, 'n_estimators': 500}\n",
      "0.3708453838917827 {'max_depth': 30, 'min_samples_leaf': 2, 'min_samples_split': 100, 'n_estimators': 800}\n",
      "0.37088677131684744 {'max_depth': 30, 'min_samples_leaf': 2, 'min_samples_split': 100, 'n_estimators': 1200}\n",
      "0.3695179963714244 {'max_depth': 30, 'min_samples_leaf': 5, 'min_samples_split': 2, 'n_estimators': 100}\n",
      "0.3688524825272634 {'max_depth': 30, 'min_samples_leaf': 5, 'min_samples_split': 2, 'n_estimators': 300}\n",
      "0.3688525400572529 {'max_depth': 30, 'min_samples_leaf': 5, 'min_samples_split': 2, 'n_estimators': 500}\n",
      "0.3688524825272634 {'max_depth': 30, 'min_samples_leaf': 5, 'min_samples_split': 2, 'n_estimators': 800}\n",
      "0.36906061207121804 {'max_depth': 30, 'min_samples_leaf': 5, 'min_samples_split': 2, 'n_estimators': 1200}\n",
      "0.3695179963714244 {'max_depth': 30, 'min_samples_leaf': 5, 'min_samples_split': 5, 'n_estimators': 100}\n",
      "0.3688524825272634 {'max_depth': 30, 'min_samples_leaf': 5, 'min_samples_split': 5, 'n_estimators': 300}\n",
      "0.3688525400572529 {'max_depth': 30, 'min_samples_leaf': 5, 'min_samples_split': 5, 'n_estimators': 500}\n",
      "0.3688524825272634 {'max_depth': 30, 'min_samples_leaf': 5, 'min_samples_split': 5, 'n_estimators': 800}\n",
      "0.36906061207121804 {'max_depth': 30, 'min_samples_leaf': 5, 'min_samples_split': 5, 'n_estimators': 1200}\n",
      "0.3695179963714244 {'max_depth': 30, 'min_samples_leaf': 5, 'min_samples_split': 10, 'n_estimators': 100}\n",
      "0.3688524825272634 {'max_depth': 30, 'min_samples_leaf': 5, 'min_samples_split': 10, 'n_estimators': 300}\n",
      "0.3688525400572529 {'max_depth': 30, 'min_samples_leaf': 5, 'min_samples_split': 10, 'n_estimators': 500}\n",
      "0.3688524825272634 {'max_depth': 30, 'min_samples_leaf': 5, 'min_samples_split': 10, 'n_estimators': 800}\n",
      "0.36906061207121804 {'max_depth': 30, 'min_samples_leaf': 5, 'min_samples_split': 10, 'n_estimators': 1200}\n",
      "0.36793541384284045 {'max_depth': 30, 'min_samples_leaf': 5, 'min_samples_split': 15, 'n_estimators': 100}\n",
      "0.3684359411161193 {'max_depth': 30, 'min_samples_leaf': 5, 'min_samples_split': 15, 'n_estimators': 300}\n",
      "0.3676849556134193 {'max_depth': 30, 'min_samples_leaf': 5, 'min_samples_split': 15, 'n_estimators': 500}\n",
      "0.3681023532394493 {'max_depth': 30, 'min_samples_leaf': 5, 'min_samples_split': 15, 'n_estimators': 800}\n",
      "0.36822749051113973 {'max_depth': 30, 'min_samples_leaf': 5, 'min_samples_split': 15, 'n_estimators': 1200}\n",
      "0.372786498616315 {'max_depth': 30, 'min_samples_leaf': 5, 'min_samples_split': 100, 'n_estimators': 100}\n",
      "0.37323929180659354 {'max_depth': 30, 'min_samples_leaf': 5, 'min_samples_split': 100, 'n_estimators': 300}\n",
      "0.37241555004041493 {'max_depth': 30, 'min_samples_leaf': 5, 'min_samples_split': 100, 'n_estimators': 500}\n",
      "0.37204430131975824 {'max_depth': 30, 'min_samples_leaf': 5, 'min_samples_split': 100, 'n_estimators': 800}\n",
      "0.3726217210598835 {'max_depth': 30, 'min_samples_leaf': 5, 'min_samples_split': 100, 'n_estimators': 1200}\n",
      "0.37076251251091114 {'max_depth': 30, 'min_samples_leaf': 10, 'min_samples_split': 2, 'n_estimators': 100}\n",
      "0.369933306653523 {'max_depth': 30, 'min_samples_leaf': 10, 'min_samples_split': 2, 'n_estimators': 300}\n",
      "0.36922698525830683 {'max_depth': 30, 'min_samples_leaf': 10, 'min_samples_split': 2, 'n_estimators': 500}\n",
      "0.3697257193925534 {'max_depth': 30, 'min_samples_leaf': 10, 'min_samples_split': 2, 'n_estimators': 800}\n",
      "0.3698917870476761 {'max_depth': 30, 'min_samples_leaf': 10, 'min_samples_split': 2, 'n_estimators': 1200}\n",
      "0.37076251251091114 {'max_depth': 30, 'min_samples_leaf': 10, 'min_samples_split': 5, 'n_estimators': 100}\n",
      "0.369933306653523 {'max_depth': 30, 'min_samples_leaf': 10, 'min_samples_split': 5, 'n_estimators': 300}\n",
      "0.36922698525830683 {'max_depth': 30, 'min_samples_leaf': 10, 'min_samples_split': 5, 'n_estimators': 500}\n",
      "0.3697257193925534 {'max_depth': 30, 'min_samples_leaf': 10, 'min_samples_split': 5, 'n_estimators': 800}\n",
      "0.3698917870476761 {'max_depth': 30, 'min_samples_leaf': 10, 'min_samples_split': 5, 'n_estimators': 1200}\n",
      "0.37076251251091114 {'max_depth': 30, 'min_samples_leaf': 10, 'min_samples_split': 10, 'n_estimators': 100}\n",
      "0.369933306653523 {'max_depth': 30, 'min_samples_leaf': 10, 'min_samples_split': 10, 'n_estimators': 300}\n",
      "0.36922698525830683 {'max_depth': 30, 'min_samples_leaf': 10, 'min_samples_split': 10, 'n_estimators': 500}\n",
      "0.3697257193925534 {'max_depth': 30, 'min_samples_leaf': 10, 'min_samples_split': 10, 'n_estimators': 800}\n",
      "0.3698917870476761 {'max_depth': 30, 'min_samples_leaf': 10, 'min_samples_split': 10, 'n_estimators': 1200}\n",
      "0.37076251251091114 {'max_depth': 30, 'min_samples_leaf': 10, 'min_samples_split': 15, 'n_estimators': 100}\n",
      "0.369933306653523 {'max_depth': 30, 'min_samples_leaf': 10, 'min_samples_split': 15, 'n_estimators': 300}\n",
      "0.36922698525830683 {'max_depth': 30, 'min_samples_leaf': 10, 'min_samples_split': 15, 'n_estimators': 500}\n",
      "0.3697257193925534 {'max_depth': 30, 'min_samples_leaf': 10, 'min_samples_split': 15, 'n_estimators': 800}\n",
      "0.3698917870476761 {'max_depth': 30, 'min_samples_leaf': 10, 'min_samples_split': 15, 'n_estimators': 1200}\n",
      "0.3734038157812404 {'max_depth': 30, 'min_samples_leaf': 10, 'min_samples_split': 100, 'n_estimators': 100}\n",
      "0.3736915615962681 {'max_depth': 30, 'min_samples_leaf': 10, 'min_samples_split': 100, 'n_estimators': 300}\n",
      "0.3736504659137266 {'max_depth': 30, 'min_samples_leaf': 10, 'min_samples_split': 100, 'n_estimators': 500}\n",
      "0.3738558991524777 {'max_depth': 30, 'min_samples_leaf': 10, 'min_samples_split': 100, 'n_estimators': 800}\n",
      "0.3736093783324765 {'max_depth': 30, 'min_samples_leaf': 10, 'min_samples_split': 100, 'n_estimators': 1200}\n"
     ]
    }
   ],
   "source": [
    "for mean_score,params in zip(cvres['mean_test_score'], cvres['params']):\n",
    "    print(np.sqrt(-mean_score), params)"
   ]
  },
  {
   "cell_type": "markdown",
   "metadata": {},
   "source": [
    "## 3rd. RandomizedSearchCV"
   ]
  },
  {
   "cell_type": "markdown",
   "metadata": {},
   "source": [
    "RandomizedSearchCV implements a “fit” and a “score” method. It also implements “score_samples”, “predict”, “predict_proba”, “decision_function”, “transform” and “inverse_transform” if they are implemented in the estimator used.\n",
    "\n",
    "The parameters of the estimator used to apply these methods are optimized by cross-validated search over parameter settings.\n",
    "\n",
    "In contrast to GridSearchCV, not all parameter values are tried out, but rather a fixed number of parameter settings is sampled from the specified distributions. The number of parameter settings that are tried is given by n_iter.\n",
    "\n",
    "If all parameters are presented as a list, sampling without replacement is performed. If at least one parameter is given as a distribution, sampling with replacement is used. It is highly recommended to use continuous distributions for continuous parameters."
   ]
  },
  {
   "cell_type": "code",
   "execution_count": 48,
   "metadata": {},
   "outputs": [],
   "source": [
    "from sklearn.model_selection import RandomizedSearchCV"
   ]
  },
  {
   "cell_type": "code",
   "execution_count": 54,
   "metadata": {},
   "outputs": [],
   "source": [
    "param_grid2 = dict(n_estimators = n_estimators, max_depth = max_depth,  \n",
    "              min_samples_split = min_samples_split, \n",
    "             min_samples_leaf = min_samples_leaf,\n",
    "                  bootstrap=bootstrap,\n",
    "                  max_features=max_features)\n",
    "rf_random = RandomizedSearchCV(estimator = forest, \n",
    "                               param_distributions = param_grid2,\n",
    "                               n_iter = 100, cv = 5,verbose=1, \n",
    "                               random_state=42, n_jobs = -1)"
   ]
  },
  {
   "cell_type": "code",
   "execution_count": 55,
   "metadata": {},
   "outputs": [
    {
     "name": "stdout",
     "output_type": "stream",
     "text": [
      "Fitting 5 folds for each of 100 candidates, totalling 500 fits\n"
     ]
    },
    {
     "name": "stderr",
     "output_type": "stream",
     "text": [
      "[Parallel(n_jobs=-1)]: Using backend LokyBackend with 8 concurrent workers.\n",
      "[Parallel(n_jobs=-1)]: Done  34 tasks      | elapsed:   46.1s\n",
      "[Parallel(n_jobs=-1)]: Done 184 tasks      | elapsed:  3.7min\n",
      "[Parallel(n_jobs=-1)]: Done 434 tasks      | elapsed:  9.3min\n",
      "[Parallel(n_jobs=-1)]: Done 500 out of 500 | elapsed: 10.9min finished\n"
     ]
    }
   ],
   "source": [
    "best_model = rf_random.fit(x_data_train, y_data_train)"
   ]
  },
  {
   "cell_type": "code",
   "execution_count": 56,
   "metadata": {},
   "outputs": [
    {
     "data": {
      "text/plain": [
       "{'n_estimators': 500,\n",
       " 'min_samples_split': 100,\n",
       " 'min_samples_leaf': 1,\n",
       " 'max_features': 'sqrt',\n",
       " 'max_depth': 30,\n",
       " 'bootstrap': False}"
      ]
     },
     "execution_count": 56,
     "metadata": {},
     "output_type": "execute_result"
    }
   ],
   "source": [
    "best_model.best_params_"
   ]
  },
  {
   "cell_type": "markdown",
   "metadata": {},
   "source": [
    "# 3.0 Evaluating the results"
   ]
  },
  {
   "cell_type": "markdown",
   "metadata": {},
   "source": [
    "**RandomSearchCV Result**"
   ]
  },
  {
   "cell_type": "code",
   "execution_count": 82,
   "metadata": {},
   "outputs": [],
   "source": [
    "RandomGridResult = RandomForestClassifier(n_estimators=500,min_samples_split=100,\n",
    "                                     min_samples_leaf=1,\n",
    "                                     max_features='sqrt',\n",
    "                                     max_depth=30,\n",
    "                                     bootstrap=False)"
   ]
  },
  {
   "cell_type": "code",
   "execution_count": 83,
   "metadata": {},
   "outputs": [
    {
     "data": {
      "text/plain": [
       "RandomForestClassifier(bootstrap=False, max_depth=30, max_features='sqrt',\n",
       "                       min_samples_split=100, n_estimators=500)"
      ]
     },
     "execution_count": 83,
     "metadata": {},
     "output_type": "execute_result"
    }
   ],
   "source": [
    "RandomGridResult.fit(x_data_train,y_data_train)"
   ]
  },
  {
   "cell_type": "markdown",
   "metadata": {},
   "source": [
    "**GridSearchCV Result**"
   ]
  },
  {
   "cell_type": "code",
   "execution_count": 94,
   "metadata": {},
   "outputs": [],
   "source": [
    "GridSearchResult = RandomForestClassifier(n_estimators=300,\n",
    "                                     min_samples_leaf=1,\n",
    "                                     min_samples_split=15,\n",
    "                                     max_depth=25)"
   ]
  },
  {
   "cell_type": "code",
   "execution_count": 95,
   "metadata": {},
   "outputs": [
    {
     "data": {
      "text/plain": [
       "RandomForestClassifier(max_depth=25, min_samples_split=15, n_estimators=300)"
      ]
     },
     "execution_count": 95,
     "metadata": {},
     "output_type": "execute_result"
    }
   ],
   "source": [
    "GridSearchResult.fit(x_data_train,y_data_train)"
   ]
  },
  {
   "cell_type": "markdown",
   "metadata": {},
   "source": [
    "**ValidationCurveResult**"
   ]
  },
  {
   "cell_type": "code",
   "execution_count": 96,
   "metadata": {},
   "outputs": [],
   "source": [
    "ValidationCurveResult = RandomForestClassifier(n_estimators=100, max_depth=20,\n",
    "                                     min_samples_split=5,min_samples_leaf=5\n",
    "                                     )"
   ]
  },
  {
   "cell_type": "code",
   "execution_count": 97,
   "metadata": {},
   "outputs": [
    {
     "data": {
      "text/plain": [
       "RandomForestClassifier(max_depth=20, min_samples_leaf=5, min_samples_split=5)"
      ]
     },
     "execution_count": 97,
     "metadata": {},
     "output_type": "execute_result"
    }
   ],
   "source": [
    "ValidationCurveResult.fit(x_data_train,y_data_train)"
   ]
  },
  {
   "cell_type": "code",
   "execution_count": null,
   "metadata": {},
   "outputs": [],
   "source": []
  },
  {
   "cell_type": "code",
   "execution_count": 98,
   "metadata": {},
   "outputs": [
    {
     "name": "stdout",
     "output_type": "stream",
     "text": [
      "Best Score for RandomForestClassifier(max_depth=20, min_samples_leaf=5, min_samples_split=5) is 0.8907588833266792\n",
      "Best Score for RandomForestClassifier(max_depth=25, min_samples_split=15, n_estimators=300) is 0.915819538711956\n",
      "Best Score for RandomForestClassifier(bootstrap=False, max_depth=30, max_features='sqrt',\n",
      "                       min_samples_split=100, n_estimators=500) is 0.8905746138017874\n"
     ]
    }
   ],
   "source": [
    "lst = [ValidationCurveResult, GridSearchResult, RandomGridResult]\n",
    "for number, i in enumerate(lst):\n",
    "    print(f'Best Score for {i} is', i.score(x_data_train,y_data_train))"
   ]
  },
  {
   "cell_type": "markdown",
   "metadata": {},
   "source": [
    "**So..The Winner is 'GridSearchCV' with 91% accuracy, Amazing!**"
   ]
  },
  {
   "cell_type": "markdown",
   "metadata": {},
   "source": [
    "**Now it is turn to apply our best Model on Test Data**"
   ]
  },
  {
   "cell_type": "markdown",
   "metadata": {},
   "source": [
    "## 3.1 Testing the model on UNSEEN DATA aka TestData"
   ]
  },
  {
   "cell_type": "markdown",
   "metadata": {},
   "source": [
    "**Running the same pipeline on test data**"
   ]
  },
  {
   "cell_type": "code",
   "execution_count": 100,
   "metadata": {},
   "outputs": [],
   "source": [
    "test_data[['fnlwgt','capital-gain']] = num_pipeline.fit_transform(test_data)"
   ]
  },
  {
   "cell_type": "markdown",
   "metadata": {},
   "source": [
    "**you guessed it right ...**"
   ]
  },
  {
   "cell_type": "code",
   "execution_count": 101,
   "metadata": {},
   "outputs": [],
   "source": [
    "x_test_data = test_data.iloc[:,:-1]\n",
    "y_test_data = test_data.iloc[:,-1]"
   ]
  },
  {
   "cell_type": "markdown",
   "metadata": {},
   "source": [
    "**Let's see what we have cooked...**"
   ]
  },
  {
   "cell_type": "code",
   "execution_count": 102,
   "metadata": {},
   "outputs": [],
   "source": [
    "y_test_data_predict = GridSearchResult.predict(x_test_data)"
   ]
  },
  {
   "cell_type": "markdown",
   "metadata": {},
   "source": [
    "**Using Classification Report which makes precision, recall and f1_score report all at once**"
   ]
  },
  {
   "cell_type": "code",
   "execution_count": 125,
   "metadata": {},
   "outputs": [],
   "source": [
    "from sklearn.metrics import classification_report"
   ]
  },
  {
   "cell_type": "code",
   "execution_count": 127,
   "metadata": {},
   "outputs": [],
   "source": [
    "classes = [\"Bellow 50K\", \"Over 50K\"]\n",
    "clsf_report = classification_report(y_test_data,y_test_data_predict,target_names=classes)"
   ]
  },
  {
   "cell_type": "code",
   "execution_count": 128,
   "metadata": {},
   "outputs": [
    {
     "name": "stdout",
     "output_type": "stream",
     "text": [
      "Classification Report shows:                precision    recall  f1-score   support\n",
      "\n",
      "  Bellow 50K       0.88      0.94      0.91     12435\n",
      "    Over 50K       0.76      0.59      0.67      3846\n",
      "\n",
      "    accuracy                           0.86     16281\n",
      "   macro avg       0.82      0.77      0.79     16281\n",
      "weighted avg       0.85      0.86      0.85     16281\n",
      "\n"
     ]
    }
   ],
   "source": [
    "print('Classification Report shows: ', clsf_report)"
   ]
  },
  {
   "cell_type": "markdown",
   "metadata": {},
   "source": [
    "**Another Library wich is helpful visualizing the ClassificationReport is 'YellowBrick'**"
   ]
  },
  {
   "cell_type": "code",
   "execution_count": 130,
   "metadata": {},
   "outputs": [],
   "source": [
    "from yellowbrick.classi fier import ClassificationReport"
   ]
  },
  {
   "cell_type": "code",
   "execution_count": 138,
   "metadata": {},
   "outputs": [
    {
     "data": {
      "image/png": "[encoded data removed]",
      "text/plain": [
       "<Figure size 576x396 with 2 Axes>"
      ]
     },
     "metadata": {},
     "output_type": "display_data"
    },
    {
     "data": {
      "text/plain": [
       "<AxesSubplot:title={'center':'RandomForestClassifier Classification Report'}>"
      ]
     },
     "execution_count": 138,
     "metadata": {},
     "output_type": "execute_result"
    }
   ],
   "source": [
    "visualizer = ClassificationReport(GridSearchResult,classes=classes,support=True,legend=True)\n",
    "visualizer.fit(x_data_train,y_data_train)\n",
    "visualizer.score(x_test_data,y_test_data)\n",
    "visualizer.show()"
   ]
  },
  {
   "cell_type": "code",
   "execution_count": null,
   "metadata": {},
   "outputs": [],
   "source": []
  }
 ],
 "metadata": {
  "kernelspec": {
   "display_name": "Python 3",
   "language": "python",
   "name": "python3"
  },
  "language_info": {
   "codemirror_mode": {
    "name": "ipython",
    "version": 3
   },
   "file_extension": ".py",
   "mimetype": "text/x-python",
   "name": "python",
   "nbconvert_exporter": "python",
   "pygments_lexer": "ipython3",
   "version": "3.8.6"
  }
 },
 "nbformat": 4,
 "nbformat_minor": 4
}
